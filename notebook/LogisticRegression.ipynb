{
 "cells": [
  {
   "cell_type": "markdown",
   "id": "e64a1628-73dd-4838-841e-e1303ada6bc5",
   "metadata": {},
   "source": [
    "---\n",
    "# Logistic Regression - Model 1\n",
    "---\n",
    "In this notebook,  we will be looking at the performance of the Logistic Regression algorithm to accurately forecast clients leaving the company.\n",
    "\n",
    "\n",
    "## Results\n",
    "\n",
    "---"
   ]
  },
  {
   "cell_type": "markdown",
   "id": "b42f55a5-a837-4174-b808-f0063cc86f1b",
   "metadata": {},
   "source": [
    "### Importing necessary library"
   ]
  },
  {
   "cell_type": "code",
   "execution_count": 1,
   "id": "7eae9561-ef4e-49cd-b957-3545f6e0f502",
   "metadata": {
    "execution": {
     "iopub.execute_input": "2025-03-05T16:33:50.012624Z",
     "iopub.status.busy": "2025-03-05T16:33:50.011563Z",
     "iopub.status.idle": "2025-03-05T16:33:52.264841Z",
     "shell.execute_reply": "2025-03-05T16:33:52.262903Z",
     "shell.execute_reply.started": "2025-03-05T16:33:50.012566Z"
    }
   },
   "outputs": [],
   "source": [
    "import pandas as pd\n",
    "import numpy as np\n",
    "\n",
    "import seaborn as sns\n",
    "import matplotlib.pyplot as plt\n",
    "\n",
    "from sklearn.model_selection import train_test_split\n",
    "from sklearn.preprocessing import StandardScaler\n",
    "from sklearn.model_selection import GridSearchCV\n",
    "\n",
    "from sklearn.pipeline import Pipeline\n",
    "from sklearn.metrics import classification_report, confusion_matrix, accuracy_score"
   ]
  },
  {
   "cell_type": "markdown",
   "id": "e64603b6-4b84-4f00-84a3-9d42169ad8aa",
   "metadata": {},
   "source": [
    "### Read data file"
   ]
  },
  {
   "cell_type": "code",
   "execution_count": 2,
   "id": "fbe59ac6-8543-4483-9a41-e061bd5fae4c",
   "metadata": {
    "execution": {
     "iopub.execute_input": "2025-03-05T16:33:52.266679Z",
     "iopub.status.busy": "2025-03-05T16:33:52.266178Z",
     "iopub.status.idle": "2025-03-05T16:33:54.243720Z",
     "shell.execute_reply": "2025-03-05T16:33:54.241930Z",
     "shell.execute_reply.started": "2025-03-05T16:33:52.266648Z"
    }
   },
   "outputs": [
    {
     "data": {
      "text/html": [
       "<div>\n",
       "<style scoped>\n",
       "    .dataframe tbody tr th:only-of-type {\n",
       "        vertical-align: middle;\n",
       "    }\n",
       "\n",
       "    .dataframe tbody tr th {\n",
       "        vertical-align: top;\n",
       "    }\n",
       "\n",
       "    .dataframe thead th {\n",
       "        text-align: right;\n",
       "    }\n",
       "</style>\n",
       "<table border=\"1\" class=\"dataframe\">\n",
       "  <thead>\n",
       "    <tr style=\"text-align: right;\">\n",
       "      <th></th>\n",
       "      <th>Latitude</th>\n",
       "      <th>Longitude</th>\n",
       "      <th>Tenure Months</th>\n",
       "      <th>Monthly Charges</th>\n",
       "      <th>Churn Value</th>\n",
       "      <th>Senior Citizen_Yes</th>\n",
       "      <th>Partner_Yes</th>\n",
       "      <th>Dependents_Yes</th>\n",
       "      <th>Internet Service_Fiber optic</th>\n",
       "      <th>Internet Service_No</th>\n",
       "      <th>...</th>\n",
       "      <th>Contract_Two year</th>\n",
       "      <th>Paperless Billing_Yes</th>\n",
       "      <th>Payment Method_Credit card (automatic)</th>\n",
       "      <th>Payment Method_Electronic check</th>\n",
       "      <th>Payment Method_Mailed check</th>\n",
       "      <th>Gender_Male</th>\n",
       "      <th>Phone Service_Yes</th>\n",
       "      <th>Multiple Lines_Yes</th>\n",
       "      <th>Streaming TV_Yes</th>\n",
       "      <th>Streaming Movies_Yes</th>\n",
       "    </tr>\n",
       "  </thead>\n",
       "  <tbody>\n",
       "    <tr>\n",
       "      <th>0</th>\n",
       "      <td>33.964131</td>\n",
       "      <td>118.272783</td>\n",
       "      <td>2</td>\n",
       "      <td>53.85</td>\n",
       "      <td>1</td>\n",
       "      <td>0</td>\n",
       "      <td>0</td>\n",
       "      <td>0</td>\n",
       "      <td>0</td>\n",
       "      <td>0</td>\n",
       "      <td>...</td>\n",
       "      <td>0</td>\n",
       "      <td>1</td>\n",
       "      <td>0</td>\n",
       "      <td>0</td>\n",
       "      <td>1</td>\n",
       "      <td>1</td>\n",
       "      <td>1</td>\n",
       "      <td>0</td>\n",
       "      <td>0</td>\n",
       "      <td>0</td>\n",
       "    </tr>\n",
       "    <tr>\n",
       "      <th>1</th>\n",
       "      <td>34.059281</td>\n",
       "      <td>118.307420</td>\n",
       "      <td>2</td>\n",
       "      <td>70.70</td>\n",
       "      <td>1</td>\n",
       "      <td>0</td>\n",
       "      <td>0</td>\n",
       "      <td>1</td>\n",
       "      <td>1</td>\n",
       "      <td>0</td>\n",
       "      <td>...</td>\n",
       "      <td>0</td>\n",
       "      <td>1</td>\n",
       "      <td>0</td>\n",
       "      <td>1</td>\n",
       "      <td>0</td>\n",
       "      <td>0</td>\n",
       "      <td>1</td>\n",
       "      <td>0</td>\n",
       "      <td>0</td>\n",
       "      <td>0</td>\n",
       "    </tr>\n",
       "    <tr>\n",
       "      <th>2</th>\n",
       "      <td>34.048013</td>\n",
       "      <td>118.293953</td>\n",
       "      <td>8</td>\n",
       "      <td>99.65</td>\n",
       "      <td>1</td>\n",
       "      <td>0</td>\n",
       "      <td>0</td>\n",
       "      <td>1</td>\n",
       "      <td>1</td>\n",
       "      <td>0</td>\n",
       "      <td>...</td>\n",
       "      <td>0</td>\n",
       "      <td>1</td>\n",
       "      <td>0</td>\n",
       "      <td>1</td>\n",
       "      <td>0</td>\n",
       "      <td>0</td>\n",
       "      <td>1</td>\n",
       "      <td>1</td>\n",
       "      <td>1</td>\n",
       "      <td>1</td>\n",
       "    </tr>\n",
       "    <tr>\n",
       "      <th>3</th>\n",
       "      <td>34.062125</td>\n",
       "      <td>118.315709</td>\n",
       "      <td>28</td>\n",
       "      <td>104.80</td>\n",
       "      <td>1</td>\n",
       "      <td>0</td>\n",
       "      <td>1</td>\n",
       "      <td>1</td>\n",
       "      <td>1</td>\n",
       "      <td>0</td>\n",
       "      <td>...</td>\n",
       "      <td>0</td>\n",
       "      <td>1</td>\n",
       "      <td>0</td>\n",
       "      <td>1</td>\n",
       "      <td>0</td>\n",
       "      <td>0</td>\n",
       "      <td>1</td>\n",
       "      <td>1</td>\n",
       "      <td>1</td>\n",
       "      <td>1</td>\n",
       "    </tr>\n",
       "    <tr>\n",
       "      <th>4</th>\n",
       "      <td>34.039224</td>\n",
       "      <td>118.266293</td>\n",
       "      <td>49</td>\n",
       "      <td>103.70</td>\n",
       "      <td>1</td>\n",
       "      <td>0</td>\n",
       "      <td>0</td>\n",
       "      <td>1</td>\n",
       "      <td>1</td>\n",
       "      <td>0</td>\n",
       "      <td>...</td>\n",
       "      <td>0</td>\n",
       "      <td>1</td>\n",
       "      <td>0</td>\n",
       "      <td>0</td>\n",
       "      <td>0</td>\n",
       "      <td>1</td>\n",
       "      <td>1</td>\n",
       "      <td>1</td>\n",
       "      <td>1</td>\n",
       "      <td>1</td>\n",
       "    </tr>\n",
       "    <tr>\n",
       "      <th>...</th>\n",
       "      <td>...</td>\n",
       "      <td>...</td>\n",
       "      <td>...</td>\n",
       "      <td>...</td>\n",
       "      <td>...</td>\n",
       "      <td>...</td>\n",
       "      <td>...</td>\n",
       "      <td>...</td>\n",
       "      <td>...</td>\n",
       "      <td>...</td>\n",
       "      <td>...</td>\n",
       "      <td>...</td>\n",
       "      <td>...</td>\n",
       "      <td>...</td>\n",
       "      <td>...</td>\n",
       "      <td>...</td>\n",
       "      <td>...</td>\n",
       "      <td>...</td>\n",
       "      <td>...</td>\n",
       "      <td>...</td>\n",
       "      <td>...</td>\n",
       "    </tr>\n",
       "    <tr>\n",
       "      <th>7038</th>\n",
       "      <td>34.341737</td>\n",
       "      <td>116.539416</td>\n",
       "      <td>72</td>\n",
       "      <td>21.15</td>\n",
       "      <td>0</td>\n",
       "      <td>0</td>\n",
       "      <td>0</td>\n",
       "      <td>0</td>\n",
       "      <td>0</td>\n",
       "      <td>1</td>\n",
       "      <td>...</td>\n",
       "      <td>1</td>\n",
       "      <td>1</td>\n",
       "      <td>0</td>\n",
       "      <td>0</td>\n",
       "      <td>0</td>\n",
       "      <td>0</td>\n",
       "      <td>1</td>\n",
       "      <td>0</td>\n",
       "      <td>0</td>\n",
       "      <td>0</td>\n",
       "    </tr>\n",
       "    <tr>\n",
       "      <th>7039</th>\n",
       "      <td>34.667815</td>\n",
       "      <td>117.536183</td>\n",
       "      <td>24</td>\n",
       "      <td>84.80</td>\n",
       "      <td>0</td>\n",
       "      <td>0</td>\n",
       "      <td>1</td>\n",
       "      <td>1</td>\n",
       "      <td>0</td>\n",
       "      <td>0</td>\n",
       "      <td>...</td>\n",
       "      <td>0</td>\n",
       "      <td>1</td>\n",
       "      <td>0</td>\n",
       "      <td>0</td>\n",
       "      <td>1</td>\n",
       "      <td>1</td>\n",
       "      <td>1</td>\n",
       "      <td>1</td>\n",
       "      <td>1</td>\n",
       "      <td>1</td>\n",
       "    </tr>\n",
       "    <tr>\n",
       "      <th>7040</th>\n",
       "      <td>34.559882</td>\n",
       "      <td>115.637164</td>\n",
       "      <td>72</td>\n",
       "      <td>103.20</td>\n",
       "      <td>0</td>\n",
       "      <td>0</td>\n",
       "      <td>1</td>\n",
       "      <td>1</td>\n",
       "      <td>1</td>\n",
       "      <td>0</td>\n",
       "      <td>...</td>\n",
       "      <td>0</td>\n",
       "      <td>1</td>\n",
       "      <td>1</td>\n",
       "      <td>0</td>\n",
       "      <td>0</td>\n",
       "      <td>0</td>\n",
       "      <td>1</td>\n",
       "      <td>1</td>\n",
       "      <td>1</td>\n",
       "      <td>1</td>\n",
       "    </tr>\n",
       "    <tr>\n",
       "      <th>7041</th>\n",
       "      <td>34.167800</td>\n",
       "      <td>116.864330</td>\n",
       "      <td>11</td>\n",
       "      <td>29.60</td>\n",
       "      <td>0</td>\n",
       "      <td>0</td>\n",
       "      <td>1</td>\n",
       "      <td>1</td>\n",
       "      <td>0</td>\n",
       "      <td>0</td>\n",
       "      <td>...</td>\n",
       "      <td>0</td>\n",
       "      <td>1</td>\n",
       "      <td>0</td>\n",
       "      <td>1</td>\n",
       "      <td>0</td>\n",
       "      <td>0</td>\n",
       "      <td>0</td>\n",
       "      <td>0</td>\n",
       "      <td>0</td>\n",
       "      <td>0</td>\n",
       "    </tr>\n",
       "    <tr>\n",
       "      <th>7042</th>\n",
       "      <td>34.424926</td>\n",
       "      <td>117.184503</td>\n",
       "      <td>66</td>\n",
       "      <td>105.65</td>\n",
       "      <td>0</td>\n",
       "      <td>0</td>\n",
       "      <td>0</td>\n",
       "      <td>0</td>\n",
       "      <td>1</td>\n",
       "      <td>0</td>\n",
       "      <td>...</td>\n",
       "      <td>1</td>\n",
       "      <td>1</td>\n",
       "      <td>0</td>\n",
       "      <td>0</td>\n",
       "      <td>0</td>\n",
       "      <td>1</td>\n",
       "      <td>1</td>\n",
       "      <td>0</td>\n",
       "      <td>1</td>\n",
       "      <td>1</td>\n",
       "    </tr>\n",
       "  </tbody>\n",
       "</table>\n",
       "<p>7043 rows × 25 columns</p>\n",
       "</div>"
      ],
      "text/plain": [
       "       Latitude   Longitude  Tenure Months  Monthly Charges  Churn Value  \\\n",
       "0     33.964131  118.272783              2            53.85            1   \n",
       "1     34.059281  118.307420              2            70.70            1   \n",
       "2     34.048013  118.293953              8            99.65            1   \n",
       "3     34.062125  118.315709             28           104.80            1   \n",
       "4     34.039224  118.266293             49           103.70            1   \n",
       "...         ...         ...            ...              ...          ...   \n",
       "7038  34.341737  116.539416             72            21.15            0   \n",
       "7039  34.667815  117.536183             24            84.80            0   \n",
       "7040  34.559882  115.637164             72           103.20            0   \n",
       "7041  34.167800  116.864330             11            29.60            0   \n",
       "7042  34.424926  117.184503             66           105.65            0   \n",
       "\n",
       "      Senior Citizen_Yes  Partner_Yes  Dependents_Yes  \\\n",
       "0                      0            0               0   \n",
       "1                      0            0               1   \n",
       "2                      0            0               1   \n",
       "3                      0            1               1   \n",
       "4                      0            0               1   \n",
       "...                  ...          ...             ...   \n",
       "7038                   0            0               0   \n",
       "7039                   0            1               1   \n",
       "7040                   0            1               1   \n",
       "7041                   0            1               1   \n",
       "7042                   0            0               0   \n",
       "\n",
       "      Internet Service_Fiber optic  Internet Service_No  ...  \\\n",
       "0                                0                    0  ...   \n",
       "1                                1                    0  ...   \n",
       "2                                1                    0  ...   \n",
       "3                                1                    0  ...   \n",
       "4                                1                    0  ...   \n",
       "...                            ...                  ...  ...   \n",
       "7038                             0                    1  ...   \n",
       "7039                             0                    0  ...   \n",
       "7040                             1                    0  ...   \n",
       "7041                             0                    0  ...   \n",
       "7042                             1                    0  ...   \n",
       "\n",
       "      Contract_Two year  Paperless Billing_Yes  \\\n",
       "0                     0                      1   \n",
       "1                     0                      1   \n",
       "2                     0                      1   \n",
       "3                     0                      1   \n",
       "4                     0                      1   \n",
       "...                 ...                    ...   \n",
       "7038                  1                      1   \n",
       "7039                  0                      1   \n",
       "7040                  0                      1   \n",
       "7041                  0                      1   \n",
       "7042                  1                      1   \n",
       "\n",
       "      Payment Method_Credit card (automatic)  Payment Method_Electronic check  \\\n",
       "0                                          0                                0   \n",
       "1                                          0                                1   \n",
       "2                                          0                                1   \n",
       "3                                          0                                1   \n",
       "4                                          0                                0   \n",
       "...                                      ...                              ...   \n",
       "7038                                       0                                0   \n",
       "7039                                       0                                0   \n",
       "7040                                       1                                0   \n",
       "7041                                       0                                1   \n",
       "7042                                       0                                0   \n",
       "\n",
       "      Payment Method_Mailed check  Gender_Male  Phone Service_Yes  \\\n",
       "0                               1            1                  1   \n",
       "1                               0            0                  1   \n",
       "2                               0            0                  1   \n",
       "3                               0            0                  1   \n",
       "4                               0            1                  1   \n",
       "...                           ...          ...                ...   \n",
       "7038                            0            0                  1   \n",
       "7039                            1            1                  1   \n",
       "7040                            0            0                  1   \n",
       "7041                            0            0                  0   \n",
       "7042                            0            1                  1   \n",
       "\n",
       "      Multiple Lines_Yes  Streaming TV_Yes  Streaming Movies_Yes  \n",
       "0                      0                 0                     0  \n",
       "1                      0                 0                     0  \n",
       "2                      1                 1                     1  \n",
       "3                      1                 1                     1  \n",
       "4                      1                 1                     1  \n",
       "...                  ...               ...                   ...  \n",
       "7038                   0                 0                     0  \n",
       "7039                   1                 1                     1  \n",
       "7040                   1                 1                     1  \n",
       "7041                   0                 0                     0  \n",
       "7042                   0                 1                     1  \n",
       "\n",
       "[7043 rows x 25 columns]"
      ]
     },
     "execution_count": 2,
     "metadata": {},
     "output_type": "execute_result"
    }
   ],
   "source": [
    "churn_df = pd.read_excel('../data/churn_cleaned_featEng.xlsx')\n",
    "churn_df"
   ]
  },
  {
   "cell_type": "markdown",
   "id": "3520556f-85d0-44de-a12c-6ad75cb7faf9",
   "metadata": {
    "execution": {
     "iopub.execute_input": "2025-03-01T22:00:33.436550Z",
     "iopub.status.busy": "2025-03-01T22:00:33.435980Z",
     "iopub.status.idle": "2025-03-01T22:00:33.448115Z",
     "shell.execute_reply": "2025-03-01T22:00:33.446039Z",
     "shell.execute_reply.started": "2025-03-01T22:00:33.436497Z"
    }
   },
   "source": [
    "---\n",
    "\n",
    "<center>\n",
    "    \n",
    "## Preparing data\n",
    "\n",
    "</center>\n",
    "\n",
    "---"
   ]
  },
  {
   "cell_type": "markdown",
   "id": "c001f309-0943-444f-bad2-5491d3eb7d3d",
   "metadata": {},
   "source": [
    "### Separate X and y features"
   ]
  },
  {
   "cell_type": "code",
   "execution_count": 3,
   "id": "d89c3544-0889-471c-becf-9e7ba8cb15c3",
   "metadata": {
    "execution": {
     "iopub.execute_input": "2025-03-05T16:33:54.245565Z",
     "iopub.status.busy": "2025-03-05T16:33:54.245050Z",
     "iopub.status.idle": "2025-03-05T16:33:54.254737Z",
     "shell.execute_reply": "2025-03-05T16:33:54.253413Z",
     "shell.execute_reply.started": "2025-03-05T16:33:54.245517Z"
    },
    "tags": []
   },
   "outputs": [],
   "source": [
    "# Seperate X and y features\n",
    "X = churn_df.drop(columns=['Churn Value'])\n",
    "y = churn_df['Churn Value']"
   ]
  },
  {
   "cell_type": "markdown",
   "id": "25903a2b-6fc5-4890-81f6-e36273bf77f4",
   "metadata": {},
   "source": [
    "### Split dataset (training/testing)"
   ]
  },
  {
   "cell_type": "code",
   "execution_count": 4,
   "id": "a5b0909a-ad4f-483e-9966-6c103493acff",
   "metadata": {
    "execution": {
     "iopub.execute_input": "2025-03-05T16:33:54.256842Z",
     "iopub.status.busy": "2025-03-05T16:33:54.256171Z",
     "iopub.status.idle": "2025-03-05T16:33:54.286594Z",
     "shell.execute_reply": "2025-03-05T16:33:54.283996Z",
     "shell.execute_reply.started": "2025-03-05T16:33:54.256794Z"
    },
    "tags": []
   },
   "outputs": [],
   "source": [
    "# Separating the dataset into a training dataset (70%) and testing+validation (30%) dataset\n",
    "X_train, X_test_validation, y_train, y_test_validation = train_test_split(X, y, train_size=0.7, random_state=5)\n",
    "\n",
    "# Separating the testing+valisation dataset into a testing dataset (15%) and a validation dataset (15%) \n",
    "X_val, X_test, y_val, y_test = train_test_split(X_test_validation, y_test_validation, test_size=0.5, random_state=5)"
   ]
  },
  {
   "cell_type": "markdown",
   "id": "009d366c-1c71-4b9b-a836-aa67a5bac711",
   "metadata": {
    "execution": {
     "iopub.execute_input": "2025-03-01T21:46:04.307307Z",
     "iopub.status.busy": "2025-03-01T21:46:04.306075Z",
     "iopub.status.idle": "2025-03-01T21:46:04.323562Z",
     "shell.execute_reply": "2025-03-01T21:46:04.317516Z",
     "shell.execute_reply.started": "2025-03-01T21:46:04.307221Z"
    }
   },
   "source": [
    "### Converting data subset to dataframe "
   ]
  },
  {
   "cell_type": "code",
   "execution_count": 5,
   "id": "0ca834de-07f4-4c20-9fa5-e1dabb38749a",
   "metadata": {
    "execution": {
     "iopub.execute_input": "2025-03-05T16:33:54.288884Z",
     "iopub.status.busy": "2025-03-05T16:33:54.288365Z",
     "iopub.status.idle": "2025-03-05T16:33:54.302575Z",
     "shell.execute_reply": "2025-03-05T16:33:54.300733Z",
     "shell.execute_reply.started": "2025-03-05T16:33:54.288839Z"
    }
   },
   "outputs": [],
   "source": [
    "X_train = pd.DataFrame(X_train, columns=X.columns)\n",
    "X_test = pd.DataFrame(X_test, columns=X.columns)"
   ]
  },
  {
   "cell_type": "markdown",
   "id": "04d95422-60cc-452e-94e4-098709eea2d3",
   "metadata": {
    "execution": {
     "iopub.execute_input": "2025-02-26T20:08:25.615728Z",
     "iopub.status.busy": "2025-02-26T20:08:25.615112Z",
     "iopub.status.idle": "2025-02-26T20:08:25.656052Z",
     "shell.execute_reply": "2025-02-26T20:08:25.654762Z",
     "shell.execute_reply.started": "2025-02-26T20:08:25.615678Z"
    }
   },
   "source": [
    "### Scale X features"
   ]
  },
  {
   "cell_type": "code",
   "execution_count": 6,
   "id": "e9962339-1a4e-4250-967b-fc204210058e",
   "metadata": {
    "execution": {
     "iopub.execute_input": "2025-03-05T16:33:54.307148Z",
     "iopub.status.busy": "2025-03-05T16:33:54.306547Z",
     "iopub.status.idle": "2025-03-05T16:33:54.329122Z",
     "shell.execute_reply": "2025-03-05T16:33:54.328014Z",
     "shell.execute_reply.started": "2025-03-05T16:33:54.307087Z"
    }
   },
   "outputs": [],
   "source": [
    "# Create instance of scaler\n",
    "scaler = StandardScaler()\n",
    "\n",
    "# Scale the data\n",
    "scaled_X_train = scaler.fit_transform(X_train)\n",
    "scaled_X_test = scaler.transform(X_test)"
   ]
  },
  {
   "cell_type": "markdown",
   "id": "c1cb2df9-3990-4f91-954a-f153ddd358bf",
   "metadata": {
    "execution": {
     "iopub.execute_input": "2025-03-01T22:00:33.436550Z",
     "iopub.status.busy": "2025-03-01T22:00:33.435980Z",
     "iopub.status.idle": "2025-03-01T22:00:33.448115Z",
     "shell.execute_reply": "2025-03-01T22:00:33.446039Z",
     "shell.execute_reply.started": "2025-03-01T22:00:33.436497Z"
    }
   },
   "source": [
    "---\n",
    "\n",
    "<center>\n",
    "    \n",
    "## Model\n",
    "\n",
    "</center>\n",
    "\n",
    "---"
   ]
  },
  {
   "cell_type": "markdown",
   "id": "2900eb04-e8a3-43d2-9c84-bd1254db4c17",
   "metadata": {},
   "source": [
    "### Find best parameters for model\n"
   ]
  },
  {
   "cell_type": "code",
   "execution_count": 7,
   "id": "36fa97e4-2f1a-4205-8d75-388fee1a49f0",
   "metadata": {
    "execution": {
     "iopub.execute_input": "2025-03-05T16:33:54.330722Z",
     "iopub.status.busy": "2025-03-05T16:33:54.330251Z",
     "iopub.status.idle": "2025-03-05T16:33:54.343537Z",
     "shell.execute_reply": "2025-03-05T16:33:54.342198Z",
     "shell.execute_reply.started": "2025-03-05T16:33:54.330681Z"
    }
   },
   "outputs": [],
   "source": [
    "import features\n",
    "\n",
    "# Create instance of feature selector\n",
    "selection1= features.features\n",
    "selection2= features.features_chi\n",
    "\n",
    "selection1best5 = list(dict(sorted(selection1.items(), key=lambda item: item[1], reverse=True)[:5]).keys())\n",
    "selection1best10 = list(dict(sorted(selection1.items(), key=lambda item: item[1], reverse=True)[:10]).keys())\n",
    "selection2best5 = list(dict(sorted(selection2.items(), key=lambda item: item[1], reverse=True)[:5]).keys())\n",
    "selection2best10 = list(dict(sorted(selection2.items(), key=lambda item: item[1], reverse=True)[:10]).keys())"
   ]
  },
  {
   "cell_type": "markdown",
   "id": "020e9f77-b660-4788-bd3c-5e375c20c2f2",
   "metadata": {},
   "source": [
    "### Run model on training dataset"
   ]
  },
  {
   "cell_type": "markdown",
   "id": "134c9c44-69da-496a-b582-882eb9ac1983",
   "metadata": {},
   "source": [
    "### Investigate best model's predictive features"
   ]
  },
  {
   "cell_type": "code",
   "execution_count": 8,
   "id": "35fcf8e5-e00e-450d-b6e4-95b848c75af2",
   "metadata": {
    "execution": {
     "iopub.execute_input": "2025-03-05T16:33:54.345352Z",
     "iopub.status.busy": "2025-03-05T16:33:54.344824Z",
     "iopub.status.idle": "2025-03-05T16:33:54.479790Z",
     "shell.execute_reply": "2025-03-05T16:33:54.477091Z",
     "shell.execute_reply.started": "2025-03-05T16:33:54.345292Z"
    }
   },
   "outputs": [
    {
     "name": "stdout",
     "output_type": "stream",
     "text": [
      "              precision    recall  f1-score   support\n",
      "\n",
      "           0       0.84      0.91      0.87       783\n",
      "           1       0.65      0.49      0.56       274\n",
      "\n",
      "    accuracy                           0.80      1057\n",
      "   macro avg       0.74      0.70      0.71      1057\n",
      "weighted avg       0.79      0.80      0.79      1057\n",
      "\n"
     ]
    }
   ],
   "source": [
    "from sklearn.linear_model import LogisticRegression\n",
    "\n",
    "using_features = selection1best5\n",
    "\n",
    "# Create instance of model\n",
    "model = LogisticRegression()\n",
    "\n",
    "# Fit the model\n",
    "model.fit(X_train[using_features], y_train)\n",
    "\n",
    "# Predict the model\n",
    "y_pred = model.predict(X_test[using_features])\n",
    "\n",
    "# Print the classification report\n",
    "print(classification_report(y_test, y_pred))\n"
   ]
  },
  {
   "cell_type": "markdown",
   "id": "0e28c75a-93e7-4db3-a445-3be26fa3f195",
   "metadata": {
    "execution": {
     "iopub.execute_input": "2025-03-01T22:00:33.436550Z",
     "iopub.status.busy": "2025-03-01T22:00:33.435980Z",
     "iopub.status.idle": "2025-03-01T22:00:33.448115Z",
     "shell.execute_reply": "2025-03-01T22:00:33.446039Z",
     "shell.execute_reply.started": "2025-03-01T22:00:33.436497Z"
    }
   },
   "source": [
    "---\n",
    "\n",
    "<center>\n",
    "    \n",
    "## Validation\n",
    "\n",
    "</center>\n",
    "\n",
    "---"
   ]
  },
  {
   "cell_type": "markdown",
   "id": "94f21319-f705-4f76-b934-0cb153ede629",
   "metadata": {},
   "source": [
    "### Run model on testing dataset"
   ]
  },
  {
   "cell_type": "code",
   "execution_count": 9,
   "id": "912a5b5a-c856-43da-b4a7-c7b3a57142eb",
   "metadata": {
    "execution": {
     "iopub.execute_input": "2025-03-05T16:33:54.483151Z",
     "iopub.status.busy": "2025-03-05T16:33:54.482482Z",
     "iopub.status.idle": "2025-03-05T16:33:54.541717Z",
     "shell.execute_reply": "2025-03-05T16:33:54.540374Z",
     "shell.execute_reply.started": "2025-03-05T16:33:54.483108Z"
    }
   },
   "outputs": [
    {
     "name": "stdout",
     "output_type": "stream",
     "text": [
      "              precision    recall  f1-score   support\n",
      "\n",
      "           0       0.84      0.91      0.87       783\n",
      "           1       0.65      0.49      0.56       274\n",
      "\n",
      "    accuracy                           0.80      1057\n",
      "   macro avg       0.74      0.70      0.71      1057\n",
      "weighted avg       0.79      0.80      0.79      1057\n",
      "\n"
     ]
    }
   ],
   "source": [
    "# Run the mode on testing data\n",
    "y_pred = model.predict(X_test[using_features])\n",
    "\n",
    "# Print the classification report\n",
    "print(classification_report(y_test, y_pred))"
   ]
  },
  {
   "cell_type": "markdown",
   "id": "71cdb7c2-8f79-423c-9e18-2bb6baaebe4f",
   "metadata": {},
   "source": [
    "### Model's validation"
   ]
  },
  {
   "cell_type": "code",
   "execution_count": 10,
   "id": "ef8cb043-d8e8-435f-bde1-c65f0b2d94c0",
   "metadata": {
    "execution": {
     "iopub.execute_input": "2025-03-05T16:33:54.544133Z",
     "iopub.status.busy": "2025-03-05T16:33:54.543635Z",
     "iopub.status.idle": "2025-03-05T16:34:02.449858Z",
     "shell.execute_reply": "2025-03-05T16:34:02.448400Z",
     "shell.execute_reply.started": "2025-03-05T16:33:54.544092Z"
    }
   },
   "outputs": [
    {
     "name": "stdout",
     "output_type": "stream",
     "text": [
      "{'C': 100, 'max_iter': 10000, 'penalty': 'l1', 'solver': 'liblinear', 'tol': 0.01}\n",
      "0.799391480730223\n",
      "LogisticRegression(C=100, max_iter=10000, penalty='l1', solver='liblinear',\n",
      "                   tol=0.01)\n",
      "90\n",
      "[[-0.03056315  1.26669317 -1.33650621  0.64608374 -1.51939739]]\n"
     ]
    }
   ],
   "source": [
    "# Models validation\n",
    "from sklearn.model_selection import cross_val_score\n",
    "\n",
    "# lets do cross validation, to find the best hyperparameters\n",
    "# Create instance of model\n",
    "# we will be doing cross validation to find the best hyperparameters out of the following\n",
    "# C: Inverse of regularization strength; must be a positive float. Like in support vector machines, smaller values specify stronger regularization.\n",
    "# penalty: Used to specify the norm used in the penalization. The ‘newton-cg’, ‘sag’ and ‘lbfgs’ solvers support only l2 penalties.\n",
    "# solver: Algorithm to use in the optimization problem.\n",
    "# tol: Tolerance for stopping criteria.\n",
    "# max_iter: Maximum number of iterations taken for the solvers to converge.\n",
    "model = LogisticRegression()\n",
    "\n",
    "# Create a dictionary of hyperparameters\n",
    "hyperparameters = {\n",
    "    'C': [0.001,  0.1, 10, 100, 200,500],\n",
    "    'penalty': ['l1', 'l2'],\n",
    "    'solver': ['liblinear'],\n",
    "    'tol': [0.0001, 0.001, 0.01,0.1],\n",
    "    'max_iter': [100, 1000, 10000]\n",
    "}\n",
    "\n",
    "# Create instance of GridSearchCV\n",
    "grid = GridSearchCV(model, hyperparameters, cv=5)\n",
    "\n",
    "# Fit the model\n",
    "grid.fit(X_train[using_features], y_train)\n",
    "\n",
    "# Print the best hyperparameters\n",
    "print(grid.best_params_)\n",
    "print(grid.best_score_)\n",
    "print(grid.best_estimator_)\n",
    "print(grid.best_index_)\n",
    "print(grid.best_estimator_.coef_)"
   ]
  },
  {
   "cell_type": "markdown",
   "id": "21af5fa9-0b4f-4015-9415-7c1103d546a2",
   "metadata": {
    "execution": {
     "iopub.execute_input": "2025-03-01T22:00:33.436550Z",
     "iopub.status.busy": "2025-03-01T22:00:33.435980Z",
     "iopub.status.idle": "2025-03-01T22:00:33.448115Z",
     "shell.execute_reply": "2025-03-01T22:00:33.446039Z",
     "shell.execute_reply.started": "2025-03-01T22:00:33.436497Z"
    }
   },
   "source": [
    "---\n",
    "\n",
    "<center>\n",
    "    \n",
    "## Results\n",
    "\n",
    "</center>\n",
    "\n",
    "---"
   ]
  },
  {
   "cell_type": "markdown",
   "id": "bd811d08-3868-4bbc-bd80-a3587fc54c35",
   "metadata": {},
   "source": [
    "### Results"
   ]
  },
  {
   "cell_type": "code",
   "execution_count": 11,
   "id": "16bd9f5a-481d-46a5-9c20-e9ab9897a32f",
   "metadata": {
    "execution": {
     "iopub.execute_input": "2025-03-05T16:34:02.451698Z",
     "iopub.status.busy": "2025-03-05T16:34:02.451179Z",
     "iopub.status.idle": "2025-03-05T16:34:02.475484Z",
     "shell.execute_reply": "2025-03-05T16:34:02.474263Z",
     "shell.execute_reply.started": "2025-03-05T16:34:02.451667Z"
    }
   },
   "outputs": [
    {
     "name": "stdout",
     "output_type": "stream",
     "text": [
      "              precision    recall  f1-score   support\n",
      "\n",
      "           0       0.84      0.91      0.87       783\n",
      "           1       0.65      0.49      0.56       274\n",
      "\n",
      "    accuracy                           0.80      1057\n",
      "   macro avg       0.74      0.70      0.71      1057\n",
      "weighted avg       0.79      0.80      0.79      1057\n",
      "\n"
     ]
    }
   ],
   "source": [
    "print(classification_report(y_test, y_pred))"
   ]
  },
  {
   "cell_type": "markdown",
   "id": "48f95acc-ba54-4831-9e09-2aaf008923b8",
   "metadata": {},
   "source": [
    "\n",
    "\n",
    "**Explanation of Metrics:**\n",
    "\n",
    ">    **Precision**: The proportion of true positive predictions out of all positive predictions.</br>\n",
    "     **Recall**: The proportion of true positive predictions out of all actual positive instances.</br>\n",
    "     **F1-score**: The harmonic mean of precision and recall, balancing both metrics.</br>\n",
    "     **Support**: The number of actual occurrence</br>\n",
    "\n",
    "### Results\n",
    "\n",
    "**DecisionTreeClassifier** (scoring=balanced_accuracy, class_weights={0: 0.5, 1: 1.5})\n",
    "|               | Precision | Recall | F1-Score | Support |\n",
    "|---------------|----------|-------|---------|--------|\n",
    "| Class 0       | 0.93     | 0.67  | 0.78    | 783    |\n",
    "| Class 1       | 0.48     | 0.86  | 0.61    | 274    |\n",
    "| Accuracy      | -        | -  | 0.72       | 1057   |\n",
    "| Macro Avg     | 0.71     | 0.77  | 0.70    | 1057   |\n",
    "| Weighted Avg  | 0.82     | 0.72  | 0.74    | 1057   |\n",
    "\n",
    "</br></br>\n",
    "**K-Nearest Neighbor** (weights=uniform)\n",
    "\n",
    "|               | Precision | Recall | F1-Score | Support |\n",
    "|---------------|:---------:|:------:|:-------:|:-------:|\n",
    "| **Class 0**   | 0.83     | 0.81   | 0.82    | 783     |\n",
    "| **Class 1**   | 0.49     | 0.51   | 0.50    | 274     |\n",
    "| **Accuracy**  | -        | -   | 0.74       | 1057    |\n",
    "| **Macro Avg** | 0.66     | 0.66   | 0.66    | 1057    |\n",
    "| **Weighted Avg** | 0.74     | 0.74   | 0.74    | 1057    |\n",
    "\n",
    "</br></br>\n",
    "**Random Forest** (scoring=accuracy, class_weights={0: 1, 1: 1})\n",
    "|               | Precision | Recall | F1-Score | Support |\n",
    "|---------------|:---------:|:------:|:-------:|:-------:|\n",
    "| **Class 0**   | 0.86     | 0.90   | 0.88    | 783     |\n",
    "| **Class 1**   | 0.66     | 0.57   | 0.61    | 274     |\n",
    "| **Accuracy**  | -        | -      | 0.81    | 1057    |\n",
    "| **Macro Avg** | 0.76     | 0.73   | 0.74    | 1057    |\n",
    "| **Weighted Avg** | 0.81     | 0.81   | 0.81    | 1057    |\n",
    "\n",
    "</br></br>\n",
    "**Logistic Regression**\n",
    "|               | Precision | Recall | F1-Score | Support |\n",
    "|---------------|:---------:|:------:|:-------:|:-------:|\n",
    "| **Class 0**   | 0.84     | 0.91   | 0.87    | 783     |\n",
    "| **Class 1**   | 0.65     | 0.49   | 0.56    | 274     |\n",
    "| **Accuracy**  | -        | -      | 0.80    | 1057    |\n",
    "| **Macro Avg** | 0.74     | 0.70   | 0.71    | 1057    |\n",
    "| **Weighted Avg** | 0.79     | 0.80   | 0.79    | 1057    |\n"
   ]
  }
 ],
 "metadata": {
  "kernelspec": {
   "display_name": "graph",
   "language": "python",
   "name": "graph"
  },
  "language_info": {
   "codemirror_mode": {
    "name": "ipython",
    "version": 3
   },
   "file_extension": ".py",
   "mimetype": "text/x-python",
   "name": "python",
   "nbconvert_exporter": "python",
   "pygments_lexer": "ipython3",
   "version": "3.12.7"
  }
 },
 "nbformat": 4,
 "nbformat_minor": 5
}
