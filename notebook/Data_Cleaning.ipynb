{
 "cells": [
  {
   "cell_type": "markdown",
   "id": "b5a1a22e-5b23-464c-83c1-694b387fe14c",
   "metadata": {},
   "source": [
    "---\n",
    "# Data Cleaning\n",
    "---\n",
    "In this notebook, it is the data cleaning section of the project.\n",
    "\n",
    "1. Each column type and it ranges of values/category will be analyzed.\n",
    "2. Columns that provide no valuable information will be discarded.\n",
    "3. Missing values will be found and replaced.\n",
    "4. Categories that are highly correleated to another column will be replaced, inorder to no pass the same information twice to the classification algorithm.\n",
    "\n",
    "\n",
    "## The columns available in the dataset and their description:\n",
    "\n",
    "| Column name       | Description                                                                                            | Needed for further analysis   |\n",
    "| ---------------- | ------------------------------------------------------------------------------------------------------- | :--------------------------: |\n",
    "| CustomerID       | ID unique to each customer                                                                              | No                           |\n",
    "| Count            | A value used in reporting/dashboarding to sum up the number of customers in a filtered set.             | No                           |\n",
    "| Country          | Country of residence                                                                                    | No - US only - Need at least 2 value for decision tree                   |\n",
    "| State            | State of residence                                                                                      | No - California only - Need at least 2 value for decision tree                             |\n",
    "| City             | City of residence                                                                                       | Not sure - Dont think so - 1129 diferent values                             |\n",
    "| Zip Code         | Zip Code of residence                                                                                   | Maybe - either keep Zip Code or latitude, longitude                             |\n",
    "| Lat Long         | Latitude and longitude coordinates of residence                                                         | Maybe - if we intend to calculate distance from some landmark |\n",
    "| Latitude         | Latitude of residence                                                                                   | Maybe - either keep Zip Code or latitude, longitude                             |\n",
    "| Longitude        | Longitude of residence                                                                                  | Maybe - either keep Zip Code or latitude, longitude                              |\n",
    "| Gender           | Customer's gender                                                                                       | Yes                              |\n",
    "| Senior Citizen   | Is customer 65 or older?                                                                                | Yes                              |\n",
    "| Partner          | Does customer have a partner?                                                                           | Yes                              |\n",
    "| Dependents       | Does customer live with any dependents (child, parents, grandparents)?                                  | Yes                               |\n",
    "| Tenure Months    | Total amount of months that the customer has been with the company by the end of the quarter            | Yes                          |\n",
    "| Phone Service    | Does customer have a home phone service with the company?                                               | Yes                              |\n",
    "| Multiple Lines   | Does the customer have multiple telephone lines with the company?                                       | Yes                              |\n",
    "| Internet Service | Does the customer have internet service with the company?                                               | Yes                          |\n",
    "| Online Security  | Has the customer subscribed to an additional online security service provided by the company?           | Yes                              |\n",
    "| Online Backup    | Has the customer subscribed to an additional online backup service provided by the company?             | Yes                              |\n",
    "| Device Protection | Has the customer subscribed to an additional device protection plan for their internet equipment?      | Yes                              |\n",
    "| Tech Support     | Has the customer subscribed to an additional technical support plan with reduced wait times?            | Yes                               |\n",
    "| Streaming TV     | Does customer use their Internet service to stream television programming from a third-party provider?  | Yes - Streaming TV and Streaming Movies are different                             |\n",
    "| Streaming Movies | Does customer use their Internet service to stream movies from a third-party provider?                  | Yes - Streaming TV and Streaming Movies are different                              |\n",
    "| Contract         | Current contract type: Month-to-Month, One Year, Two Year                                               | Yes                          |\n",
    "| Paperless Billing | Has customer chosen paperless billing?                                                                 | Yes                              |\n",
    "| Payment Method   | How the customer pays their bill: Bank Withdrawal, Credit Card, Mailed Check                            | Yes                              |\n",
    "| Monthly Charges  | Customer’s current total monthly charge for all their services from the company.                        | Yes                          |\n",
    "| Total Charges    | Customer’s total charges, calculated to the end of the quarter.                                         | No - Using Montlhy Charges should be sufficient                          |\n",
    "| Churn Label      | Yes = the customer left the company this quarter. No = the customer remained with the company.          | No - Same as Churn Value - Keeping Churn Value only                          |\n",
    "| Churn Value      | 1 = the customer left the company this quarter. 0 = the customer remained with the company.             | Yes                          |\n",
    "| Churn Score      | A value from 0-100 that is calculated using the predictive tool IBM SPSS Modeler. The higher the score, the more likely the customer will churn. | Yes - For validation to compare our model performance against theirs                              |\n",
    "| CLTV            | Customer Lifetime Value. A predicted CLTV is calculated using corporate formulas and existing data. The higher the value, the more valuable the customer. High value customers should be monitored for churn.                                                                                  |  Yes - For validation to compare our model performance against theirs                             |\n",
    "| Churn Reason    | Customer’s specific reason for leaving the company. Directly related to Churn Category                   | Maybe - Depends on the amount of different categories                       |\n",
    "\n",
    "\n",
    "\n",
    "\n",
    "---"
   ]
  },
  {
   "cell_type": "markdown",
   "id": "5c11ef77-a7f4-43c7-81e6-0c0bf1351ee6",
   "metadata": {},
   "source": [
    "### Importing necessary library"
   ]
  },
  {
   "cell_type": "code",
   "execution_count": 1,
   "id": "a52c3cc9-f7ff-4fa6-8a55-761dddf362dc",
   "metadata": {
    "execution": {
     "iopub.execute_input": "2025-03-05T13:49:40.712974Z",
     "iopub.status.busy": "2025-03-05T13:49:40.712001Z",
     "iopub.status.idle": "2025-03-05T13:49:41.273707Z",
     "shell.execute_reply": "2025-03-05T13:49:41.272622Z",
     "shell.execute_reply.started": "2025-03-05T13:49:40.712905Z"
    }
   },
   "outputs": [],
   "source": [
    "import pandas as pd\n",
    "import numpy as np"
   ]
  },
  {
   "cell_type": "markdown",
   "id": "b05dc81a-97b3-46f0-bdcf-cc196881ca6a",
   "metadata": {},
   "source": [
    "### Read data file"
   ]
  },
  {
   "cell_type": "code",
   "execution_count": 2,
   "id": "7a2d6e87-2b08-4af2-b255-1443d67393b6",
   "metadata": {
    "execution": {
     "iopub.execute_input": "2025-03-05T13:49:41.275192Z",
     "iopub.status.busy": "2025-03-05T13:49:41.274776Z",
     "iopub.status.idle": "2025-03-05T13:49:43.816565Z",
     "shell.execute_reply": "2025-03-05T13:49:43.814552Z",
     "shell.execute_reply.started": "2025-03-05T13:49:41.275162Z"
    }
   },
   "outputs": [
    {
     "data": {
      "text/html": [
       "<div>\n",
       "<style scoped>\n",
       "    .dataframe tbody tr th:only-of-type {\n",
       "        vertical-align: middle;\n",
       "    }\n",
       "\n",
       "    .dataframe tbody tr th {\n",
       "        vertical-align: top;\n",
       "    }\n",
       "\n",
       "    .dataframe thead th {\n",
       "        text-align: right;\n",
       "    }\n",
       "</style>\n",
       "<table border=\"1\" class=\"dataframe\">\n",
       "  <thead>\n",
       "    <tr style=\"text-align: right;\">\n",
       "      <th></th>\n",
       "      <th>CustomerID</th>\n",
       "      <th>Count</th>\n",
       "      <th>Country</th>\n",
       "      <th>State</th>\n",
       "      <th>City</th>\n",
       "      <th>Zip Code</th>\n",
       "      <th>Lat Long</th>\n",
       "      <th>Latitude</th>\n",
       "      <th>Longitude</th>\n",
       "      <th>Gender</th>\n",
       "      <th>...</th>\n",
       "      <th>Contract</th>\n",
       "      <th>Paperless Billing</th>\n",
       "      <th>Payment Method</th>\n",
       "      <th>Monthly Charges</th>\n",
       "      <th>Total Charges</th>\n",
       "      <th>Churn Label</th>\n",
       "      <th>Churn Value</th>\n",
       "      <th>Churn Score</th>\n",
       "      <th>CLTV</th>\n",
       "      <th>Churn Reason</th>\n",
       "    </tr>\n",
       "  </thead>\n",
       "  <tbody>\n",
       "    <tr>\n",
       "      <th>0</th>\n",
       "      <td>3668-QPYBK</td>\n",
       "      <td>1</td>\n",
       "      <td>United States</td>\n",
       "      <td>California</td>\n",
       "      <td>Los Angeles</td>\n",
       "      <td>90003</td>\n",
       "      <td>33.964131, -118.272783</td>\n",
       "      <td>33.964131</td>\n",
       "      <td>-118.272783</td>\n",
       "      <td>Male</td>\n",
       "      <td>...</td>\n",
       "      <td>Month-to-month</td>\n",
       "      <td>Yes</td>\n",
       "      <td>Mailed check</td>\n",
       "      <td>53.85</td>\n",
       "      <td>108.15</td>\n",
       "      <td>Yes</td>\n",
       "      <td>1</td>\n",
       "      <td>86</td>\n",
       "      <td>3239</td>\n",
       "      <td>Competitor made better offer</td>\n",
       "    </tr>\n",
       "    <tr>\n",
       "      <th>1</th>\n",
       "      <td>9237-HQITU</td>\n",
       "      <td>1</td>\n",
       "      <td>United States</td>\n",
       "      <td>California</td>\n",
       "      <td>Los Angeles</td>\n",
       "      <td>90005</td>\n",
       "      <td>34.059281, -118.30742</td>\n",
       "      <td>34.059281</td>\n",
       "      <td>-118.307420</td>\n",
       "      <td>Female</td>\n",
       "      <td>...</td>\n",
       "      <td>Month-to-month</td>\n",
       "      <td>Yes</td>\n",
       "      <td>Electronic check</td>\n",
       "      <td>70.70</td>\n",
       "      <td>151.65</td>\n",
       "      <td>Yes</td>\n",
       "      <td>1</td>\n",
       "      <td>67</td>\n",
       "      <td>2701</td>\n",
       "      <td>Moved</td>\n",
       "    </tr>\n",
       "    <tr>\n",
       "      <th>2</th>\n",
       "      <td>9305-CDSKC</td>\n",
       "      <td>1</td>\n",
       "      <td>United States</td>\n",
       "      <td>California</td>\n",
       "      <td>Los Angeles</td>\n",
       "      <td>90006</td>\n",
       "      <td>34.048013, -118.293953</td>\n",
       "      <td>34.048013</td>\n",
       "      <td>-118.293953</td>\n",
       "      <td>Female</td>\n",
       "      <td>...</td>\n",
       "      <td>Month-to-month</td>\n",
       "      <td>Yes</td>\n",
       "      <td>Electronic check</td>\n",
       "      <td>99.65</td>\n",
       "      <td>820.5</td>\n",
       "      <td>Yes</td>\n",
       "      <td>1</td>\n",
       "      <td>86</td>\n",
       "      <td>5372</td>\n",
       "      <td>Moved</td>\n",
       "    </tr>\n",
       "    <tr>\n",
       "      <th>3</th>\n",
       "      <td>7892-POOKP</td>\n",
       "      <td>1</td>\n",
       "      <td>United States</td>\n",
       "      <td>California</td>\n",
       "      <td>Los Angeles</td>\n",
       "      <td>90010</td>\n",
       "      <td>34.062125, -118.315709</td>\n",
       "      <td>34.062125</td>\n",
       "      <td>-118.315709</td>\n",
       "      <td>Female</td>\n",
       "      <td>...</td>\n",
       "      <td>Month-to-month</td>\n",
       "      <td>Yes</td>\n",
       "      <td>Electronic check</td>\n",
       "      <td>104.80</td>\n",
       "      <td>3046.05</td>\n",
       "      <td>Yes</td>\n",
       "      <td>1</td>\n",
       "      <td>84</td>\n",
       "      <td>5003</td>\n",
       "      <td>Moved</td>\n",
       "    </tr>\n",
       "    <tr>\n",
       "      <th>4</th>\n",
       "      <td>0280-XJGEX</td>\n",
       "      <td>1</td>\n",
       "      <td>United States</td>\n",
       "      <td>California</td>\n",
       "      <td>Los Angeles</td>\n",
       "      <td>90015</td>\n",
       "      <td>34.039224, -118.266293</td>\n",
       "      <td>34.039224</td>\n",
       "      <td>-118.266293</td>\n",
       "      <td>Male</td>\n",
       "      <td>...</td>\n",
       "      <td>Month-to-month</td>\n",
       "      <td>Yes</td>\n",
       "      <td>Bank transfer (automatic)</td>\n",
       "      <td>103.70</td>\n",
       "      <td>5036.3</td>\n",
       "      <td>Yes</td>\n",
       "      <td>1</td>\n",
       "      <td>89</td>\n",
       "      <td>5340</td>\n",
       "      <td>Competitor had better devices</td>\n",
       "    </tr>\n",
       "    <tr>\n",
       "      <th>...</th>\n",
       "      <td>...</td>\n",
       "      <td>...</td>\n",
       "      <td>...</td>\n",
       "      <td>...</td>\n",
       "      <td>...</td>\n",
       "      <td>...</td>\n",
       "      <td>...</td>\n",
       "      <td>...</td>\n",
       "      <td>...</td>\n",
       "      <td>...</td>\n",
       "      <td>...</td>\n",
       "      <td>...</td>\n",
       "      <td>...</td>\n",
       "      <td>...</td>\n",
       "      <td>...</td>\n",
       "      <td>...</td>\n",
       "      <td>...</td>\n",
       "      <td>...</td>\n",
       "      <td>...</td>\n",
       "      <td>...</td>\n",
       "      <td>...</td>\n",
       "    </tr>\n",
       "    <tr>\n",
       "      <th>7038</th>\n",
       "      <td>2569-WGERO</td>\n",
       "      <td>1</td>\n",
       "      <td>United States</td>\n",
       "      <td>California</td>\n",
       "      <td>Landers</td>\n",
       "      <td>92285</td>\n",
       "      <td>34.341737, -116.539416</td>\n",
       "      <td>34.341737</td>\n",
       "      <td>-116.539416</td>\n",
       "      <td>Female</td>\n",
       "      <td>...</td>\n",
       "      <td>Two year</td>\n",
       "      <td>Yes</td>\n",
       "      <td>Bank transfer (automatic)</td>\n",
       "      <td>21.15</td>\n",
       "      <td>1419.4</td>\n",
       "      <td>No</td>\n",
       "      <td>0</td>\n",
       "      <td>45</td>\n",
       "      <td>5306</td>\n",
       "      <td>NaN</td>\n",
       "    </tr>\n",
       "    <tr>\n",
       "      <th>7039</th>\n",
       "      <td>6840-RESVB</td>\n",
       "      <td>1</td>\n",
       "      <td>United States</td>\n",
       "      <td>California</td>\n",
       "      <td>Adelanto</td>\n",
       "      <td>92301</td>\n",
       "      <td>34.667815, -117.536183</td>\n",
       "      <td>34.667815</td>\n",
       "      <td>-117.536183</td>\n",
       "      <td>Male</td>\n",
       "      <td>...</td>\n",
       "      <td>One year</td>\n",
       "      <td>Yes</td>\n",
       "      <td>Mailed check</td>\n",
       "      <td>84.80</td>\n",
       "      <td>1990.5</td>\n",
       "      <td>No</td>\n",
       "      <td>0</td>\n",
       "      <td>59</td>\n",
       "      <td>2140</td>\n",
       "      <td>NaN</td>\n",
       "    </tr>\n",
       "    <tr>\n",
       "      <th>7040</th>\n",
       "      <td>2234-XADUH</td>\n",
       "      <td>1</td>\n",
       "      <td>United States</td>\n",
       "      <td>California</td>\n",
       "      <td>Amboy</td>\n",
       "      <td>92304</td>\n",
       "      <td>34.559882, -115.637164</td>\n",
       "      <td>34.559882</td>\n",
       "      <td>-115.637164</td>\n",
       "      <td>Female</td>\n",
       "      <td>...</td>\n",
       "      <td>One year</td>\n",
       "      <td>Yes</td>\n",
       "      <td>Credit card (automatic)</td>\n",
       "      <td>103.20</td>\n",
       "      <td>7362.9</td>\n",
       "      <td>No</td>\n",
       "      <td>0</td>\n",
       "      <td>71</td>\n",
       "      <td>5560</td>\n",
       "      <td>NaN</td>\n",
       "    </tr>\n",
       "    <tr>\n",
       "      <th>7041</th>\n",
       "      <td>4801-JZAZL</td>\n",
       "      <td>1</td>\n",
       "      <td>United States</td>\n",
       "      <td>California</td>\n",
       "      <td>Angelus Oaks</td>\n",
       "      <td>92305</td>\n",
       "      <td>34.1678, -116.86433</td>\n",
       "      <td>34.167800</td>\n",
       "      <td>-116.864330</td>\n",
       "      <td>Female</td>\n",
       "      <td>...</td>\n",
       "      <td>Month-to-month</td>\n",
       "      <td>Yes</td>\n",
       "      <td>Electronic check</td>\n",
       "      <td>29.60</td>\n",
       "      <td>346.45</td>\n",
       "      <td>No</td>\n",
       "      <td>0</td>\n",
       "      <td>59</td>\n",
       "      <td>2793</td>\n",
       "      <td>NaN</td>\n",
       "    </tr>\n",
       "    <tr>\n",
       "      <th>7042</th>\n",
       "      <td>3186-AJIEK</td>\n",
       "      <td>1</td>\n",
       "      <td>United States</td>\n",
       "      <td>California</td>\n",
       "      <td>Apple Valley</td>\n",
       "      <td>92308</td>\n",
       "      <td>34.424926, -117.184503</td>\n",
       "      <td>34.424926</td>\n",
       "      <td>-117.184503</td>\n",
       "      <td>Male</td>\n",
       "      <td>...</td>\n",
       "      <td>Two year</td>\n",
       "      <td>Yes</td>\n",
       "      <td>Bank transfer (automatic)</td>\n",
       "      <td>105.65</td>\n",
       "      <td>6844.5</td>\n",
       "      <td>No</td>\n",
       "      <td>0</td>\n",
       "      <td>38</td>\n",
       "      <td>5097</td>\n",
       "      <td>NaN</td>\n",
       "    </tr>\n",
       "  </tbody>\n",
       "</table>\n",
       "<p>7043 rows × 33 columns</p>\n",
       "</div>"
      ],
      "text/plain": [
       "      CustomerID  Count        Country       State          City  Zip Code  \\\n",
       "0     3668-QPYBK      1  United States  California   Los Angeles     90003   \n",
       "1     9237-HQITU      1  United States  California   Los Angeles     90005   \n",
       "2     9305-CDSKC      1  United States  California   Los Angeles     90006   \n",
       "3     7892-POOKP      1  United States  California   Los Angeles     90010   \n",
       "4     0280-XJGEX      1  United States  California   Los Angeles     90015   \n",
       "...          ...    ...            ...         ...           ...       ...   \n",
       "7038  2569-WGERO      1  United States  California       Landers     92285   \n",
       "7039  6840-RESVB      1  United States  California      Adelanto     92301   \n",
       "7040  2234-XADUH      1  United States  California         Amboy     92304   \n",
       "7041  4801-JZAZL      1  United States  California  Angelus Oaks     92305   \n",
       "7042  3186-AJIEK      1  United States  California  Apple Valley     92308   \n",
       "\n",
       "                    Lat Long   Latitude   Longitude  Gender  ...  \\\n",
       "0     33.964131, -118.272783  33.964131 -118.272783    Male  ...   \n",
       "1      34.059281, -118.30742  34.059281 -118.307420  Female  ...   \n",
       "2     34.048013, -118.293953  34.048013 -118.293953  Female  ...   \n",
       "3     34.062125, -118.315709  34.062125 -118.315709  Female  ...   \n",
       "4     34.039224, -118.266293  34.039224 -118.266293    Male  ...   \n",
       "...                      ...        ...         ...     ...  ...   \n",
       "7038  34.341737, -116.539416  34.341737 -116.539416  Female  ...   \n",
       "7039  34.667815, -117.536183  34.667815 -117.536183    Male  ...   \n",
       "7040  34.559882, -115.637164  34.559882 -115.637164  Female  ...   \n",
       "7041     34.1678, -116.86433  34.167800 -116.864330  Female  ...   \n",
       "7042  34.424926, -117.184503  34.424926 -117.184503    Male  ...   \n",
       "\n",
       "            Contract Paperless Billing             Payment Method  \\\n",
       "0     Month-to-month               Yes               Mailed check   \n",
       "1     Month-to-month               Yes           Electronic check   \n",
       "2     Month-to-month               Yes           Electronic check   \n",
       "3     Month-to-month               Yes           Electronic check   \n",
       "4     Month-to-month               Yes  Bank transfer (automatic)   \n",
       "...              ...               ...                        ...   \n",
       "7038        Two year               Yes  Bank transfer (automatic)   \n",
       "7039        One year               Yes               Mailed check   \n",
       "7040        One year               Yes    Credit card (automatic)   \n",
       "7041  Month-to-month               Yes           Electronic check   \n",
       "7042        Two year               Yes  Bank transfer (automatic)   \n",
       "\n",
       "      Monthly Charges Total Charges Churn Label Churn Value Churn Score  CLTV  \\\n",
       "0               53.85        108.15         Yes           1          86  3239   \n",
       "1               70.70        151.65         Yes           1          67  2701   \n",
       "2               99.65         820.5         Yes           1          86  5372   \n",
       "3              104.80       3046.05         Yes           1          84  5003   \n",
       "4              103.70        5036.3         Yes           1          89  5340   \n",
       "...               ...           ...         ...         ...         ...   ...   \n",
       "7038            21.15        1419.4          No           0          45  5306   \n",
       "7039            84.80        1990.5          No           0          59  2140   \n",
       "7040           103.20        7362.9          No           0          71  5560   \n",
       "7041            29.60        346.45          No           0          59  2793   \n",
       "7042           105.65        6844.5          No           0          38  5097   \n",
       "\n",
       "                       Churn Reason  \n",
       "0      Competitor made better offer  \n",
       "1                             Moved  \n",
       "2                             Moved  \n",
       "3                             Moved  \n",
       "4     Competitor had better devices  \n",
       "...                             ...  \n",
       "7038                            NaN  \n",
       "7039                            NaN  \n",
       "7040                            NaN  \n",
       "7041                            NaN  \n",
       "7042                            NaN  \n",
       "\n",
       "[7043 rows x 33 columns]"
      ]
     },
     "execution_count": 2,
     "metadata": {},
     "output_type": "execute_result"
    }
   ],
   "source": [
    "churn_df = pd.read_excel('../data/churn.xlsx')\n",
    "churn_df"
   ]
  },
  {
   "cell_type": "markdown",
   "id": "eb3850a2-6669-4537-986d-d2038d474a99",
   "metadata": {
    "execution": {
     "iopub.execute_input": "2025-03-01T16:06:34.747610Z",
     "iopub.status.busy": "2025-03-01T16:06:34.747059Z",
     "iopub.status.idle": "2025-03-01T16:06:34.756599Z",
     "shell.execute_reply": "2025-03-01T16:06:34.752472Z",
     "shell.execute_reply.started": "2025-03-01T16:06:34.747561Z"
    }
   },
   "source": [
    "### Looking at the data type of the dataset columns\n"
   ]
  },
  {
   "cell_type": "code",
   "execution_count": 3,
   "id": "d6697cb9-7139-4c46-aab2-77a848a3e3b0",
   "metadata": {
    "execution": {
     "iopub.execute_input": "2025-03-05T13:49:43.818045Z",
     "iopub.status.busy": "2025-03-05T13:49:43.817651Z",
     "iopub.status.idle": "2025-03-05T13:49:43.830276Z",
     "shell.execute_reply": "2025-03-05T13:49:43.828663Z",
     "shell.execute_reply.started": "2025-03-05T13:49:43.818017Z"
    }
   },
   "outputs": [
    {
     "data": {
      "text/plain": [
       "CustomerID            object\n",
       "Count                  int64\n",
       "Country               object\n",
       "State                 object\n",
       "City                  object\n",
       "Zip Code               int64\n",
       "Lat Long              object\n",
       "Latitude             float64\n",
       "Longitude            float64\n",
       "Gender                object\n",
       "Senior Citizen        object\n",
       "Partner               object\n",
       "Dependents            object\n",
       "Tenure Months          int64\n",
       "Phone Service         object\n",
       "Multiple Lines        object\n",
       "Internet Service      object\n",
       "Online Security       object\n",
       "Online Backup         object\n",
       "Device Protection     object\n",
       "Tech Support          object\n",
       "Streaming TV          object\n",
       "Streaming Movies      object\n",
       "Contract              object\n",
       "Paperless Billing     object\n",
       "Payment Method        object\n",
       "Monthly Charges      float64\n",
       "Total Charges         object\n",
       "Churn Label           object\n",
       "Churn Value            int64\n",
       "Churn Score            int64\n",
       "CLTV                   int64\n",
       "Churn Reason          object\n",
       "dtype: object"
      ]
     },
     "execution_count": 3,
     "metadata": {},
     "output_type": "execute_result"
    }
   ],
   "source": [
    "churn_df.dtypes"
   ]
  },
  {
   "cell_type": "markdown",
   "id": "3586e2e5-f7c0-4a2b-a272-3e23136dbe3b",
   "metadata": {
    "execution": {
     "iopub.execute_input": "2025-03-03T17:12:49.734123Z",
     "iopub.status.busy": "2025-03-03T17:12:49.733315Z",
     "iopub.status.idle": "2025-03-03T17:12:49.759863Z",
     "shell.execute_reply": "2025-03-03T17:12:49.753891Z",
     "shell.execute_reply.started": "2025-03-03T17:12:49.734062Z"
    }
   },
   "source": [
    "---\n",
    "### Looking at the the values of the categorical columns\n",
    "---"
   ]
  },
  {
   "cell_type": "markdown",
   "id": "46e232ab-3f8c-4dee-99bc-387db37ba9a5",
   "metadata": {
    "execution": {
     "iopub.execute_input": "2025-03-02T18:08:47.869270Z",
     "iopub.status.busy": "2025-03-02T18:08:47.868647Z",
     "iopub.status.idle": "2025-03-02T18:08:47.894545Z",
     "shell.execute_reply": "2025-03-02T18:08:47.893311Z",
     "shell.execute_reply.started": "2025-03-02T18:08:47.869220Z"
    }
   },
   "source": [
    "**Country column**\n",
    "\n",
    "Conclusion : Only one value is found in this column. There is no value to a column containing a single value. Thus, this column can be discarded."
   ]
  },
  {
   "cell_type": "code",
   "execution_count": 4,
   "id": "6579b41f-22c0-4cb5-85d3-722d9b99b49f",
   "metadata": {
    "execution": {
     "iopub.execute_input": "2025-03-05T13:49:43.831869Z",
     "iopub.status.busy": "2025-03-05T13:49:43.831468Z",
     "iopub.status.idle": "2025-03-05T13:49:43.858368Z",
     "shell.execute_reply": "2025-03-05T13:49:43.857345Z",
     "shell.execute_reply.started": "2025-03-05T13:49:43.831841Z"
    }
   },
   "outputs": [
    {
     "name": "stdout",
     "output_type": "stream",
     "text": [
      "['United States']\n"
     ]
    }
   ],
   "source": [
    "print(churn_df['Country'].unique())"
   ]
  },
  {
   "cell_type": "markdown",
   "id": "9f8b0d28-c1c5-40a7-9603-b28b55100343",
   "metadata": {
    "execution": {
     "iopub.execute_input": "2025-03-03T17:19:30.364494Z",
     "iopub.status.busy": "2025-03-03T17:19:30.362492Z",
     "iopub.status.idle": "2025-03-03T17:19:30.379465Z",
     "shell.execute_reply": "2025-03-03T17:19:30.375402Z",
     "shell.execute_reply.started": "2025-03-03T17:19:30.364407Z"
    }
   },
   "source": [
    "**State column**\n",
    "\n",
    "Conclusion : Only one value is found in this column. There is no value to a column containing a single value. Thus, this column can be discarded."
   ]
  },
  {
   "cell_type": "code",
   "execution_count": 5,
   "id": "2b456498-22d5-4b30-a54d-64c54929d2fa",
   "metadata": {
    "execution": {
     "iopub.execute_input": "2025-03-05T13:49:43.859976Z",
     "iopub.status.busy": "2025-03-05T13:49:43.859537Z",
     "iopub.status.idle": "2025-03-05T13:49:43.879533Z",
     "shell.execute_reply": "2025-03-05T13:49:43.877961Z",
     "shell.execute_reply.started": "2025-03-05T13:49:43.859944Z"
    }
   },
   "outputs": [
    {
     "name": "stdout",
     "output_type": "stream",
     "text": [
      "['California']\n"
     ]
    }
   ],
   "source": [
    "print(churn_df['State'].unique())"
   ]
  },
  {
   "cell_type": "markdown",
   "id": "8fb338c2-1f97-4d77-96e6-61ab4d1c7861",
   "metadata": {
    "execution": {
     "iopub.execute_input": "2025-03-02T18:08:47.869270Z",
     "iopub.status.busy": "2025-03-02T18:08:47.868647Z",
     "iopub.status.idle": "2025-03-02T18:08:47.894545Z",
     "shell.execute_reply": "2025-03-02T18:08:47.893311Z",
     "shell.execute_reply.started": "2025-03-02T18:08:47.869220Z"
    }
   },
   "source": [
    "**City column**\n",
    "\n",
    "Conclusion : 1129 cities is found in the City Column. It will be kept in case, we want to use it along the way."
   ]
  },
  {
   "cell_type": "code",
   "execution_count": 6,
   "id": "277867e4-dea1-41b0-92b0-0c9346c321bd",
   "metadata": {
    "execution": {
     "iopub.execute_input": "2025-03-05T13:49:43.883862Z",
     "iopub.status.busy": "2025-03-05T13:49:43.883425Z",
     "iopub.status.idle": "2025-03-05T13:49:43.915499Z",
     "shell.execute_reply": "2025-03-05T13:49:43.914442Z",
     "shell.execute_reply.started": "2025-03-05T13:49:43.883833Z"
    }
   },
   "outputs": [
    {
     "name": "stdout",
     "output_type": "stream",
     "text": [
      "['Los Angeles' 'Beverly Hills' 'Huntington Park' ... 'Standish' 'Tulelake'\n",
      " 'Olympic Valley']\n",
      "1129\n"
     ]
    }
   ],
   "source": [
    "print(churn_df['City'].unique())\n",
    "\n",
    "print(len(churn_df['City'].unique()))"
   ]
  },
  {
   "cell_type": "markdown",
   "id": "ffe71843-7fd0-42ec-aee2-ce4480c17339",
   "metadata": {
    "execution": {
     "iopub.execute_input": "2025-03-03T17:23:15.870822Z",
     "iopub.status.busy": "2025-03-03T17:23:15.870278Z",
     "iopub.status.idle": "2025-03-03T17:23:15.883056Z",
     "shell.execute_reply": "2025-03-03T17:23:15.880925Z",
     "shell.execute_reply.started": "2025-03-03T17:23:15.870778Z"
    }
   },
   "source": [
    "**Zip Code column**\n",
    "\n",
    "Conclusion : 1652 zip code is found in the Zip Code Column. It will be kept in case, we want to use it along the way."
   ]
  },
  {
   "cell_type": "code",
   "execution_count": 7,
   "id": "484e6184-30bc-44fe-ade4-d14c4b2b9c58",
   "metadata": {
    "execution": {
     "iopub.execute_input": "2025-03-05T13:49:43.916760Z",
     "iopub.status.busy": "2025-03-05T13:49:43.916480Z",
     "iopub.status.idle": "2025-03-05T13:49:43.936777Z",
     "shell.execute_reply": "2025-03-05T13:49:43.935165Z",
     "shell.execute_reply.started": "2025-03-05T13:49:43.916734Z"
    }
   },
   "outputs": [
    {
     "name": "stdout",
     "output_type": "stream",
     "text": [
      "[90003 90005 90006 ... 96128 96134 96146]\n",
      "1652\n"
     ]
    }
   ],
   "source": [
    "print(churn_df['Zip Code'].unique())\n",
    "\n",
    "print(len(churn_df['Zip Code'].unique()))"
   ]
  },
  {
   "cell_type": "markdown",
   "id": "76094f23-da3c-47c8-a87d-bd2470790e0a",
   "metadata": {
    "execution": {
     "iopub.execute_input": "2025-03-02T18:08:47.869270Z",
     "iopub.status.busy": "2025-03-02T18:08:47.868647Z",
     "iopub.status.idle": "2025-03-02T18:08:47.894545Z",
     "shell.execute_reply": "2025-03-02T18:08:47.893311Z",
     "shell.execute_reply.started": "2025-03-02T18:08:47.869220Z"
    }
   },
   "source": [
    "**Partner column**\n",
    "\n",
    "Conclusion : Simple Yes/No column"
   ]
  },
  {
   "cell_type": "code",
   "execution_count": 8,
   "id": "e597921c-1aa4-4ad1-af83-8782c3376d01",
   "metadata": {
    "execution": {
     "iopub.execute_input": "2025-03-05T13:49:43.938026Z",
     "iopub.status.busy": "2025-03-05T13:49:43.937737Z",
     "iopub.status.idle": "2025-03-05T13:49:43.951759Z",
     "shell.execute_reply": "2025-03-05T13:49:43.950641Z",
     "shell.execute_reply.started": "2025-03-05T13:49:43.938002Z"
    }
   },
   "outputs": [
    {
     "name": "stdout",
     "output_type": "stream",
     "text": [
      "['No' 'Yes'] 2\n"
     ]
    }
   ],
   "source": [
    "print(churn_df['Partner'].unique(), len(churn_df['Partner'].unique()))"
   ]
  },
  {
   "cell_type": "markdown",
   "id": "7348ab15-b30a-4e86-ae5d-e31020bfddc3",
   "metadata": {
    "execution": {
     "iopub.execute_input": "2025-03-03T17:25:15.994912Z",
     "iopub.status.busy": "2025-03-03T17:25:15.994189Z",
     "iopub.status.idle": "2025-03-03T17:25:16.016067Z",
     "shell.execute_reply": "2025-03-03T17:25:16.008702Z",
     "shell.execute_reply.started": "2025-03-03T17:25:15.994865Z"
    }
   },
   "source": [
    "**Churn Reason column**\n",
    "\n",
    "Conclusion : 21 different reasons is found in the Churn Reason Column. This column will be useful to determine which features could be the best predictors to forecast clients leaving the company.\n",
    "  * The 21 different reasons can be grouped into 7 categories:\n",
    "    - Competitors\n",
    "    - Price\n",
    "    - Dissatifaction\n",
    "    - Moved\n",
    "    - Not Sure\n",
    "    - Deceased\n",
    "    - Not applicable\n",
    "    "
   ]
  },
  {
   "cell_type": "code",
   "execution_count": 9,
   "id": "86d77286-3079-4337-bd25-3e0eb04326b1",
   "metadata": {
    "execution": {
     "iopub.execute_input": "2025-03-05T13:49:43.953740Z",
     "iopub.status.busy": "2025-03-05T13:49:43.953134Z",
     "iopub.status.idle": "2025-03-05T13:49:43.974846Z",
     "shell.execute_reply": "2025-03-05T13:49:43.973781Z",
     "shell.execute_reply.started": "2025-03-05T13:49:43.953704Z"
    }
   },
   "outputs": [
    {
     "name": "stdout",
     "output_type": "stream",
     "text": [
      "['Competitor made better offer' 'Moved' 'Competitor had better devices'\n",
      " 'Competitor offered higher download speeds'\n",
      " 'Competitor offered more data' 'Price too high' 'Product dissatisfaction'\n",
      " 'Service dissatisfaction' 'Lack of self-service on Website'\n",
      " 'Network reliability' 'Limited range of services'\n",
      " 'Lack of affordable download/upload speed' 'Long distance charges'\n",
      " 'Extra data charges' \"Don't know\" 'Poor expertise of online support'\n",
      " 'Poor expertise of phone support' 'Attitude of service provider'\n",
      " 'Attitude of support person' 'Deceased' nan]\n",
      "21\n"
     ]
    }
   ],
   "source": [
    "print(churn_df['Churn Reason'].unique())\n",
    "\n",
    "print(len(churn_df['Churn Reason'].unique()))"
   ]
  },
  {
   "cell_type": "markdown",
   "id": "adb4faf6-1040-433a-b08d-ca8b9293ae41",
   "metadata": {
    "execution": {
     "iopub.execute_input": "2025-03-03T17:32:03.789121Z",
     "iopub.status.busy": "2025-03-03T17:32:03.783260Z",
     "iopub.status.idle": "2025-03-03T17:32:03.804649Z",
     "shell.execute_reply": "2025-03-03T17:32:03.799915Z",
     "shell.execute_reply.started": "2025-03-03T17:32:03.789019Z"
    }
   },
   "source": [
    "**Streaming TV**\n",
    "\n",
    "Conclusion : Simple Yes/No/No internet column"
   ]
  },
  {
   "cell_type": "code",
   "execution_count": 10,
   "id": "05036463-a333-4364-9561-dd15f5536696",
   "metadata": {
    "execution": {
     "iopub.execute_input": "2025-03-05T13:49:43.976547Z",
     "iopub.status.busy": "2025-03-05T13:49:43.975876Z",
     "iopub.status.idle": "2025-03-05T13:49:43.992120Z",
     "shell.execute_reply": "2025-03-05T13:49:43.991073Z",
     "shell.execute_reply.started": "2025-03-05T13:49:43.976519Z"
    }
   },
   "outputs": [
    {
     "data": {
      "text/plain": [
       "array(['No', 'Yes', 'No internet service'], dtype=object)"
      ]
     },
     "execution_count": 10,
     "metadata": {},
     "output_type": "execute_result"
    }
   ],
   "source": [
    "churn_df['Streaming TV'].unique()"
   ]
  },
  {
   "cell_type": "markdown",
   "id": "a0372cf3-d154-487e-af29-21d3f245f681",
   "metadata": {
    "execution": {
     "iopub.execute_input": "2025-03-03T17:32:21.543195Z",
     "iopub.status.busy": "2025-03-03T17:32:21.540480Z",
     "iopub.status.idle": "2025-03-03T17:32:21.562906Z",
     "shell.execute_reply": "2025-03-03T17:32:21.558942Z",
     "shell.execute_reply.started": "2025-03-03T17:32:21.543070Z"
    }
   },
   "source": [
    "**Streaming Movies**\n",
    "\n",
    "Conclusion : Simple Yes/No/No internet column"
   ]
  },
  {
   "cell_type": "code",
   "execution_count": 11,
   "id": "7b7cd18d-5b83-4e7e-bd87-3440d5a83ae6",
   "metadata": {
    "execution": {
     "iopub.execute_input": "2025-03-05T13:49:43.993778Z",
     "iopub.status.busy": "2025-03-05T13:49:43.993338Z",
     "iopub.status.idle": "2025-03-05T13:49:44.017341Z",
     "shell.execute_reply": "2025-03-05T13:49:44.016163Z",
     "shell.execute_reply.started": "2025-03-05T13:49:43.993751Z"
    }
   },
   "outputs": [
    {
     "data": {
      "text/plain": [
       "array(['No', 'Yes', 'No internet service'], dtype=object)"
      ]
     },
     "execution_count": 11,
     "metadata": {},
     "output_type": "execute_result"
    }
   ],
   "source": [
    "churn_df['Streaming Movies'].unique()"
   ]
  },
  {
   "cell_type": "markdown",
   "id": "e493dbb9-2d79-439d-89f2-794e12d22c0f",
   "metadata": {
    "execution": {
     "iopub.execute_input": "2025-03-03T17:33:43.914973Z",
     "iopub.status.busy": "2025-03-03T17:33:43.909072Z",
     "iopub.status.idle": "2025-03-03T17:33:43.929842Z",
     "shell.execute_reply": "2025-03-03T17:33:43.927085Z",
     "shell.execute_reply.started": "2025-03-03T17:33:43.914870Z"
    }
   },
   "source": [
    "**Are Streaming TV and Streaming Movies columns different?**\n",
    "\n",
    "Conclusion : Yes. Thus, we need to keep both for for the data analysis process."
   ]
  },
  {
   "cell_type": "code",
   "execution_count": 12,
   "id": "3ece6b19-bb58-43f1-bb59-1245d6aedd58",
   "metadata": {
    "execution": {
     "iopub.execute_input": "2025-03-05T13:49:44.019465Z",
     "iopub.status.busy": "2025-03-05T13:49:44.018635Z",
     "iopub.status.idle": "2025-03-05T13:49:44.055915Z",
     "shell.execute_reply": "2025-03-05T13:49:44.054893Z",
     "shell.execute_reply.started": "2025-03-05T13:49:44.019422Z"
    }
   },
   "outputs": [
    {
     "data": {
      "text/html": [
       "<div>\n",
       "<style scoped>\n",
       "    .dataframe tbody tr th:only-of-type {\n",
       "        vertical-align: middle;\n",
       "    }\n",
       "\n",
       "    .dataframe tbody tr th {\n",
       "        vertical-align: top;\n",
       "    }\n",
       "\n",
       "    .dataframe thead th {\n",
       "        text-align: right;\n",
       "    }\n",
       "</style>\n",
       "<table border=\"1\" class=\"dataframe\">\n",
       "  <thead>\n",
       "    <tr style=\"text-align: right;\">\n",
       "      <th></th>\n",
       "      <th>Streaming TV</th>\n",
       "      <th>Streaming Movies</th>\n",
       "    </tr>\n",
       "  </thead>\n",
       "  <tbody>\n",
       "    <tr>\n",
       "      <th>6</th>\n",
       "      <td>No</td>\n",
       "      <td>Yes</td>\n",
       "    </tr>\n",
       "    <tr>\n",
       "      <th>14</th>\n",
       "      <td>Yes</td>\n",
       "      <td>No</td>\n",
       "    </tr>\n",
       "    <tr>\n",
       "      <th>19</th>\n",
       "      <td>Yes</td>\n",
       "      <td>No</td>\n",
       "    </tr>\n",
       "    <tr>\n",
       "      <th>25</th>\n",
       "      <td>Yes</td>\n",
       "      <td>No</td>\n",
       "    </tr>\n",
       "    <tr>\n",
       "      <th>31</th>\n",
       "      <td>No</td>\n",
       "      <td>Yes</td>\n",
       "    </tr>\n",
       "    <tr>\n",
       "      <th>...</th>\n",
       "      <td>...</td>\n",
       "      <td>...</td>\n",
       "    </tr>\n",
       "    <tr>\n",
       "      <th>7020</th>\n",
       "      <td>Yes</td>\n",
       "      <td>No</td>\n",
       "    </tr>\n",
       "    <tr>\n",
       "      <th>7021</th>\n",
       "      <td>Yes</td>\n",
       "      <td>No</td>\n",
       "    </tr>\n",
       "    <tr>\n",
       "      <th>7029</th>\n",
       "      <td>No</td>\n",
       "      <td>Yes</td>\n",
       "    </tr>\n",
       "    <tr>\n",
       "      <th>7031</th>\n",
       "      <td>Yes</td>\n",
       "      <td>No</td>\n",
       "    </tr>\n",
       "    <tr>\n",
       "      <th>7036</th>\n",
       "      <td>Yes</td>\n",
       "      <td>No</td>\n",
       "    </tr>\n",
       "  </tbody>\n",
       "</table>\n",
       "<p>1559 rows × 2 columns</p>\n",
       "</div>"
      ],
      "text/plain": [
       "     Streaming TV Streaming Movies\n",
       "6              No              Yes\n",
       "14            Yes               No\n",
       "19            Yes               No\n",
       "25            Yes               No\n",
       "31             No              Yes\n",
       "...           ...              ...\n",
       "7020          Yes               No\n",
       "7021          Yes               No\n",
       "7029           No              Yes\n",
       "7031          Yes               No\n",
       "7036          Yes               No\n",
       "\n",
       "[1559 rows x 2 columns]"
      ]
     },
     "execution_count": 12,
     "metadata": {},
     "output_type": "execute_result"
    }
   ],
   "source": [
    "# Looking if the columns 'Streaming TV' and Streaming Movies' are identical\n",
    "churn_df[churn_df['Streaming TV'] != churn_df['Streaming Movies']].loc[:,'Streaming TV':'Streaming Movies']"
   ]
  },
  {
   "cell_type": "markdown",
   "id": "d2d696d3-d599-431f-9497-e8cb5139c7ee",
   "metadata": {},
   "source": [
    "---\n",
    "### Removing unecessary columns\n",
    "---\n",
    "\n",
    "**CustomerID** : ID unique to each customer.\n",
    " - Brings no value\n",
    "\n",
    "**Count** : A value used in reporting/dashboarding to sum up the number of customers in a filtered set.\n",
    " - Brings no value\n",
    "\n",
    "**Country** : Contains a single value.\n",
    "  - A column needs to contain at least two different values in order to be used in Regression/Decision Trees\n",
    "\n",
    "**State** : Contains a single value.\n",
    " - A column needs to contain at least two different values in order to be used in Regression/Decision Trees\n",
    "\n",
    "**Lat Long** : A coordinate cannot be use as an input for Regression/Decision Tree. Also, we are already keepin the column latitude and longitude.\n",
    " - Redundent\n",
    "\n",
    "---"
   ]
  },
  {
   "cell_type": "code",
   "execution_count": 13,
   "id": "369a36b8-d2b9-455d-8ae7-6a5d591382bb",
   "metadata": {
    "execution": {
     "iopub.execute_input": "2025-03-05T13:49:44.057556Z",
     "iopub.status.busy": "2025-03-05T13:49:44.057116Z",
     "iopub.status.idle": "2025-03-05T13:49:44.113507Z",
     "shell.execute_reply": "2025-03-05T13:49:44.112362Z",
     "shell.execute_reply.started": "2025-03-05T13:49:44.057515Z"
    }
   },
   "outputs": [
    {
     "data": {
      "text/html": [
       "<div>\n",
       "<style scoped>\n",
       "    .dataframe tbody tr th:only-of-type {\n",
       "        vertical-align: middle;\n",
       "    }\n",
       "\n",
       "    .dataframe tbody tr th {\n",
       "        vertical-align: top;\n",
       "    }\n",
       "\n",
       "    .dataframe thead th {\n",
       "        text-align: right;\n",
       "    }\n",
       "</style>\n",
       "<table border=\"1\" class=\"dataframe\">\n",
       "  <thead>\n",
       "    <tr style=\"text-align: right;\">\n",
       "      <th></th>\n",
       "      <th>City</th>\n",
       "      <th>Zip Code</th>\n",
       "      <th>Latitude</th>\n",
       "      <th>Longitude</th>\n",
       "      <th>Gender</th>\n",
       "      <th>Senior Citizen</th>\n",
       "      <th>Partner</th>\n",
       "      <th>Dependents</th>\n",
       "      <th>Tenure Months</th>\n",
       "      <th>Phone Service</th>\n",
       "      <th>...</th>\n",
       "      <th>Streaming TV</th>\n",
       "      <th>Streaming Movies</th>\n",
       "      <th>Contract</th>\n",
       "      <th>Paperless Billing</th>\n",
       "      <th>Payment Method</th>\n",
       "      <th>Monthly Charges</th>\n",
       "      <th>Churn Value</th>\n",
       "      <th>Churn Score</th>\n",
       "      <th>CLTV</th>\n",
       "      <th>Churn Reason</th>\n",
       "    </tr>\n",
       "  </thead>\n",
       "  <tbody>\n",
       "    <tr>\n",
       "      <th>0</th>\n",
       "      <td>Los Angeles</td>\n",
       "      <td>90003</td>\n",
       "      <td>33.964131</td>\n",
       "      <td>-118.272783</td>\n",
       "      <td>Male</td>\n",
       "      <td>No</td>\n",
       "      <td>No</td>\n",
       "      <td>No</td>\n",
       "      <td>2</td>\n",
       "      <td>Yes</td>\n",
       "      <td>...</td>\n",
       "      <td>No</td>\n",
       "      <td>No</td>\n",
       "      <td>Month-to-month</td>\n",
       "      <td>Yes</td>\n",
       "      <td>Mailed check</td>\n",
       "      <td>53.85</td>\n",
       "      <td>1</td>\n",
       "      <td>86</td>\n",
       "      <td>3239</td>\n",
       "      <td>Competitor made better offer</td>\n",
       "    </tr>\n",
       "    <tr>\n",
       "      <th>1</th>\n",
       "      <td>Los Angeles</td>\n",
       "      <td>90005</td>\n",
       "      <td>34.059281</td>\n",
       "      <td>-118.307420</td>\n",
       "      <td>Female</td>\n",
       "      <td>No</td>\n",
       "      <td>No</td>\n",
       "      <td>Yes</td>\n",
       "      <td>2</td>\n",
       "      <td>Yes</td>\n",
       "      <td>...</td>\n",
       "      <td>No</td>\n",
       "      <td>No</td>\n",
       "      <td>Month-to-month</td>\n",
       "      <td>Yes</td>\n",
       "      <td>Electronic check</td>\n",
       "      <td>70.70</td>\n",
       "      <td>1</td>\n",
       "      <td>67</td>\n",
       "      <td>2701</td>\n",
       "      <td>Moved</td>\n",
       "    </tr>\n",
       "    <tr>\n",
       "      <th>2</th>\n",
       "      <td>Los Angeles</td>\n",
       "      <td>90006</td>\n",
       "      <td>34.048013</td>\n",
       "      <td>-118.293953</td>\n",
       "      <td>Female</td>\n",
       "      <td>No</td>\n",
       "      <td>No</td>\n",
       "      <td>Yes</td>\n",
       "      <td>8</td>\n",
       "      <td>Yes</td>\n",
       "      <td>...</td>\n",
       "      <td>Yes</td>\n",
       "      <td>Yes</td>\n",
       "      <td>Month-to-month</td>\n",
       "      <td>Yes</td>\n",
       "      <td>Electronic check</td>\n",
       "      <td>99.65</td>\n",
       "      <td>1</td>\n",
       "      <td>86</td>\n",
       "      <td>5372</td>\n",
       "      <td>Moved</td>\n",
       "    </tr>\n",
       "    <tr>\n",
       "      <th>3</th>\n",
       "      <td>Los Angeles</td>\n",
       "      <td>90010</td>\n",
       "      <td>34.062125</td>\n",
       "      <td>-118.315709</td>\n",
       "      <td>Female</td>\n",
       "      <td>No</td>\n",
       "      <td>Yes</td>\n",
       "      <td>Yes</td>\n",
       "      <td>28</td>\n",
       "      <td>Yes</td>\n",
       "      <td>...</td>\n",
       "      <td>Yes</td>\n",
       "      <td>Yes</td>\n",
       "      <td>Month-to-month</td>\n",
       "      <td>Yes</td>\n",
       "      <td>Electronic check</td>\n",
       "      <td>104.80</td>\n",
       "      <td>1</td>\n",
       "      <td>84</td>\n",
       "      <td>5003</td>\n",
       "      <td>Moved</td>\n",
       "    </tr>\n",
       "    <tr>\n",
       "      <th>4</th>\n",
       "      <td>Los Angeles</td>\n",
       "      <td>90015</td>\n",
       "      <td>34.039224</td>\n",
       "      <td>-118.266293</td>\n",
       "      <td>Male</td>\n",
       "      <td>No</td>\n",
       "      <td>No</td>\n",
       "      <td>Yes</td>\n",
       "      <td>49</td>\n",
       "      <td>Yes</td>\n",
       "      <td>...</td>\n",
       "      <td>Yes</td>\n",
       "      <td>Yes</td>\n",
       "      <td>Month-to-month</td>\n",
       "      <td>Yes</td>\n",
       "      <td>Bank transfer (automatic)</td>\n",
       "      <td>103.70</td>\n",
       "      <td>1</td>\n",
       "      <td>89</td>\n",
       "      <td>5340</td>\n",
       "      <td>Competitor had better devices</td>\n",
       "    </tr>\n",
       "  </tbody>\n",
       "</table>\n",
       "<p>5 rows × 26 columns</p>\n",
       "</div>"
      ],
      "text/plain": [
       "          City  Zip Code   Latitude   Longitude  Gender Senior Citizen  \\\n",
       "0  Los Angeles     90003  33.964131 -118.272783    Male             No   \n",
       "1  Los Angeles     90005  34.059281 -118.307420  Female             No   \n",
       "2  Los Angeles     90006  34.048013 -118.293953  Female             No   \n",
       "3  Los Angeles     90010  34.062125 -118.315709  Female             No   \n",
       "4  Los Angeles     90015  34.039224 -118.266293    Male             No   \n",
       "\n",
       "  Partner Dependents  Tenure Months Phone Service  ... Streaming TV  \\\n",
       "0      No         No              2           Yes  ...           No   \n",
       "1      No        Yes              2           Yes  ...           No   \n",
       "2      No        Yes              8           Yes  ...          Yes   \n",
       "3     Yes        Yes             28           Yes  ...          Yes   \n",
       "4      No        Yes             49           Yes  ...          Yes   \n",
       "\n",
       "  Streaming Movies        Contract Paperless Billing  \\\n",
       "0               No  Month-to-month               Yes   \n",
       "1               No  Month-to-month               Yes   \n",
       "2              Yes  Month-to-month               Yes   \n",
       "3              Yes  Month-to-month               Yes   \n",
       "4              Yes  Month-to-month               Yes   \n",
       "\n",
       "              Payment Method Monthly Charges Churn Value Churn Score  CLTV  \\\n",
       "0               Mailed check           53.85           1          86  3239   \n",
       "1           Electronic check           70.70           1          67  2701   \n",
       "2           Electronic check           99.65           1          86  5372   \n",
       "3           Electronic check          104.80           1          84  5003   \n",
       "4  Bank transfer (automatic)          103.70           1          89  5340   \n",
       "\n",
       "                    Churn Reason  \n",
       "0   Competitor made better offer  \n",
       "1                          Moved  \n",
       "2                          Moved  \n",
       "3                          Moved  \n",
       "4  Competitor had better devices  \n",
       "\n",
       "[5 rows x 26 columns]"
      ]
     },
     "execution_count": 13,
     "metadata": {},
     "output_type": "execute_result"
    }
   ],
   "source": [
    "churn_df.drop(columns=['CustomerID',\n",
    "                       'Count',\n",
    "                       'Country',\n",
    "                       'State',\n",
    "                       'Lat Long',\n",
    "                       'Total Charges',\n",
    "                       'Churn Label'\n",
    "                      ], inplace=True)\n",
    "\n",
    "churn_df.head(5)"
   ]
  },
  {
   "cell_type": "markdown",
   "id": "146c1d11-b0b2-44ab-b056-a12c8844b900",
   "metadata": {
    "execution": {
     "iopub.execute_input": "2025-03-01T17:01:27.622877Z",
     "iopub.status.busy": "2025-03-01T17:01:27.622144Z",
     "iopub.status.idle": "2025-03-01T17:01:27.634238Z",
     "shell.execute_reply": "2025-03-01T17:01:27.630374Z",
     "shell.execute_reply.started": "2025-03-01T17:01:27.622817Z"
    }
   },
   "source": [
    "---\n",
    "### Investigating missing values\n",
    "---"
   ]
  },
  {
   "cell_type": "markdown",
   "id": "4df3d98f-a7cd-4c20-ab5e-71772de5ef21",
   "metadata": {},
   "source": [
    "**Finding the missing values**"
   ]
  },
  {
   "cell_type": "code",
   "execution_count": 14,
   "id": "9f8e283f-905b-499f-9db6-18079a905b92",
   "metadata": {
    "execution": {
     "iopub.execute_input": "2025-03-05T13:49:44.115749Z",
     "iopub.status.busy": "2025-03-05T13:49:44.115315Z",
     "iopub.status.idle": "2025-03-05T13:49:44.153648Z",
     "shell.execute_reply": "2025-03-05T13:49:44.152132Z",
     "shell.execute_reply.started": "2025-03-05T13:49:44.115723Z"
    }
   },
   "outputs": [
    {
     "data": {
      "text/plain": [
       "City                    0\n",
       "Zip Code                0\n",
       "Latitude                0\n",
       "Longitude               0\n",
       "Gender                  0\n",
       "Senior Citizen          0\n",
       "Partner                 0\n",
       "Dependents              0\n",
       "Tenure Months           0\n",
       "Phone Service           0\n",
       "Multiple Lines          0\n",
       "Internet Service        0\n",
       "Online Security         0\n",
       "Online Backup           0\n",
       "Device Protection       0\n",
       "Tech Support            0\n",
       "Streaming TV            0\n",
       "Streaming Movies        0\n",
       "Contract                0\n",
       "Paperless Billing       0\n",
       "Payment Method          0\n",
       "Monthly Charges         0\n",
       "Churn Value             0\n",
       "Churn Score             0\n",
       "CLTV                    0\n",
       "Churn Reason         5174\n",
       "dtype: int64"
      ]
     },
     "execution_count": 14,
     "metadata": {},
     "output_type": "execute_result"
    }
   ],
   "source": [
    "churn_df.isna().sum()"
   ]
  },
  {
   "cell_type": "markdown",
   "id": "122a802d-9b93-4bf1-8687-a7110ca0d30e",
   "metadata": {},
   "source": [
    "**Are the missing values of the Churn Reason columns are only associated with remaining clients?**\n",
    "\n",
    "Conslusion: Yes "
   ]
  },
  {
   "cell_type": "code",
   "execution_count": 15,
   "id": "87988e2e-ec01-43b7-a82a-1838f2630e80",
   "metadata": {
    "execution": {
     "iopub.execute_input": "2025-03-05T13:49:44.155438Z",
     "iopub.status.busy": "2025-03-05T13:49:44.154924Z",
     "iopub.status.idle": "2025-03-05T13:49:44.177522Z",
     "shell.execute_reply": "2025-03-05T13:49:44.176013Z",
     "shell.execute_reply.started": "2025-03-05T13:49:44.155389Z"
    }
   },
   "outputs": [
    {
     "name": "stdout",
     "output_type": "stream",
     "text": [
      "All the missing values of the Churn Reason column belongs to remaining clients.\n"
     ]
    }
   ],
   "source": [
    "idx_stayed = set(churn_df[churn_df['Churn Value'] == 0].index)\n",
    "\n",
    "idx_na = set(churn_df['Churn Reason'].isna().index)\n",
    "\n",
    "# Looking at whether the index of the missing values of the column 'Churn Reason'\n",
    "# are the same as the index of the client that stayed\n",
    "if idx_stayed.difference(idx_na) == set() :\n",
    "    print('All the missing values of the Churn Reason column belongs to remaining clients.')\n",
    "else:\n",
    "    print('The missing values of the Churn Reason column can be found for both churn and unchurn clients.')"
   ]
  },
  {
   "cell_type": "markdown",
   "id": "0ff343df-f77e-4cd2-a681-ff1aa96b5e76",
   "metadata": {},
   "source": [
    "### Replacing missing values"
   ]
  },
  {
   "cell_type": "code",
   "execution_count": 16,
   "id": "2795914a-9ef1-44b7-a489-1844ba6022bb",
   "metadata": {
    "execution": {
     "iopub.execute_input": "2025-03-05T13:49:44.179234Z",
     "iopub.status.busy": "2025-03-05T13:49:44.178749Z",
     "iopub.status.idle": "2025-03-05T13:49:44.193683Z",
     "shell.execute_reply": "2025-03-05T13:49:44.192653Z",
     "shell.execute_reply.started": "2025-03-05T13:49:44.179192Z"
    }
   },
   "outputs": [],
   "source": [
    "# Replacing missing value for remaining customer with 'Not applicable'\n",
    "churn_df['Churn Reason'] = churn_df['Churn Reason'].fillna('Not applicable')\n"
   ]
  },
  {
   "cell_type": "code",
   "execution_count": 17,
   "id": "1a2d15bd-8ab5-440f-abc1-954a3d49b138",
   "metadata": {
    "execution": {
     "iopub.execute_input": "2025-03-05T13:49:44.195822Z",
     "iopub.status.busy": "2025-03-05T13:49:44.195196Z",
     "iopub.status.idle": "2025-03-05T13:49:44.246818Z",
     "shell.execute_reply": "2025-03-05T13:49:44.245725Z",
     "shell.execute_reply.started": "2025-03-05T13:49:44.195787Z"
    }
   },
   "outputs": [
    {
     "data": {
      "text/plain": [
       "City                 0\n",
       "Zip Code             0\n",
       "Latitude             0\n",
       "Longitude            0\n",
       "Gender               0\n",
       "Senior Citizen       0\n",
       "Partner              0\n",
       "Dependents           0\n",
       "Tenure Months        0\n",
       "Phone Service        0\n",
       "Multiple Lines       0\n",
       "Internet Service     0\n",
       "Online Security      0\n",
       "Online Backup        0\n",
       "Device Protection    0\n",
       "Tech Support         0\n",
       "Streaming TV         0\n",
       "Streaming Movies     0\n",
       "Contract             0\n",
       "Paperless Billing    0\n",
       "Payment Method       0\n",
       "Monthly Charges      0\n",
       "Churn Value          0\n",
       "Churn Score          0\n",
       "CLTV                 0\n",
       "Churn Reason         0\n",
       "dtype: int64"
      ]
     },
     "execution_count": 17,
     "metadata": {},
     "output_type": "execute_result"
    }
   ],
   "source": [
    "# Looking that there is no more missing values\n",
    "churn_df.isna().sum()"
   ]
  },
  {
   "cell_type": "markdown",
   "id": "f3708bb7-b0e1-4020-ac97-89100b5e5576",
   "metadata": {
    "jp-MarkdownHeadingCollapsed": true
   },
   "source": [
    "---\n",
    "### Replacing similar value in column 'Churn Reason'\n",
    "\n",
    "This column will be useful to determine which features could be the best predictors to forecast clients leaving the company.\n",
    "\n",
    "There are 21 different reasons in the Churn Reason Column.\n",
    "\n",
    "The 21 different reasons can be grouped into 7 categories:\n",
    "  - Competitors\n",
    "  - Price\n",
    "  - Dissatifaction\n",
    "  - Moved\n",
    "  - Not Sure\n",
    "  - Deceased\n",
    "  - Not applicable\n",
    "\n",
    "---"
   ]
  },
  {
   "cell_type": "code",
   "execution_count": 18,
   "id": "d0daac29-518f-41e4-bcfc-32d3ba182584",
   "metadata": {
    "execution": {
     "iopub.execute_input": "2025-03-05T13:49:44.248151Z",
     "iopub.status.busy": "2025-03-05T13:49:44.247847Z",
     "iopub.status.idle": "2025-03-05T13:49:44.279975Z",
     "shell.execute_reply": "2025-03-05T13:49:44.278769Z",
     "shell.execute_reply.started": "2025-03-05T13:49:44.248127Z"
    }
   },
   "outputs": [
    {
     "data": {
      "text/plain": [
       "array(['Competitors', 'Moved', 'Price', 'Dissactisfaction', \"Don't know\",\n",
       "       'Deceased', 'Not applicable'], dtype=object)"
      ]
     },
     "execution_count": 18,
     "metadata": {},
     "output_type": "execute_result"
    }
   ],
   "source": [
    "# Create dict for string replacement\n",
    "repl_dict = {'Competitors' : ['Competitor made better offer',\n",
    "                              'Competitor had better devices',\n",
    "                              'Competitor offered higher download speeds',\n",
    "                              'Competitor offered more data'\n",
    "                             ],\n",
    "             \n",
    "             'Price' : ['Price too high',\n",
    "                        'Lack of affordable download/upload speed',\n",
    "                        'Long distance charges',\n",
    "                        'Extra data charges' \n",
    "                        ],\n",
    "             \n",
    "             'Dissactisfaction' : ['Product dissatisfaction',\n",
    "                                   'Service dissatisfaction',\n",
    "                                   'Lack of self-service on Website',\n",
    "                                   'Network reliability', \n",
    "                                   'Limited range of services',\n",
    "                                   'Poor expertise of online support',\n",
    "                                   'Poor expertise of phone support',\n",
    "                                   'Attitude of service provider',\n",
    "                                   'Attitude of support person'\n",
    "                                   ]\n",
    "            }\n",
    "\n",
    "# Reverse the order of the dict to be able to use replace\n",
    "repl_dict_flatten = {orig_str : repl_str for repl_str, orig_str_list in repl_dict.items() for orig_str in orig_str_list}\n",
    "\n",
    "# Replace strings\n",
    "churn_df['Churn Reason'] = churn_df['Churn Reason'].replace(repl_dict_flatten)\n",
    "\n",
    "# # Verifying that the replacement was done correctly\n",
    "churn_df['Churn Reason'].unique()"
   ]
  },
  {
   "cell_type": "markdown",
   "id": "441658d5-3f61-44a0-a829-179aaa0eaa86",
   "metadata": {},
   "source": [
    "---\n",
    "\n",
    "### Removing highly correlated data\n",
    "\n",
    "---\n",
    "At first, we kept all values of categorical data. Hovever, when the correlation heatmap was produced, we could observe some perfectly correlated columns.\n",
    "\n",
    "All the categorical columns that contains a category 'No internet service' is in fact a perfect replica of the columns 'Internet Service' with the category value of 'No'.\n",
    "\n",
    "Therefore, we will be removing the 'No internet service' value by replacing it with 'No'.\n",
    "\n",
    "\n",
    "![Correlation Heatmap](../graph/Correlation_heatmap_all.png)\n",
    "\n",
    "---"
   ]
  },
  {
   "cell_type": "code",
   "execution_count": 19,
   "id": "ec59c304-b412-4c80-afaa-ccbab0f16935",
   "metadata": {
    "execution": {
     "iopub.execute_input": "2025-03-05T13:49:44.281386Z",
     "iopub.status.busy": "2025-03-05T13:49:44.281014Z",
     "iopub.status.idle": "2025-03-05T13:49:44.304244Z",
     "shell.execute_reply": "2025-03-05T13:49:44.302875Z",
     "shell.execute_reply.started": "2025-03-05T13:49:44.281361Z"
    }
   },
   "outputs": [
    {
     "data": {
      "text/plain": [
       "array(['Yes', 'No'], dtype=object)"
      ]
     },
     "execution_count": 19,
     "metadata": {},
     "output_type": "execute_result"
    }
   ],
   "source": [
    "# Setting the columns in which we want to proceed with the replacement\n",
    "col = ['Online Security', 'Online Backup',\n",
    "       'Device Protection', 'Tech Support',\n",
    "       'Streaming TV', 'Streaming Movies']\n",
    "\n",
    "# Replacing 'No internet Service' by 'No'\n",
    "churn_df[col] = churn_df[col].replace({'No internet service':'No'})\n",
    "\n",
    "# Verify that the replacement was done correctly\n",
    "churn_df['Online Security'].unique()"
   ]
  },
  {
   "cell_type": "code",
   "execution_count": 20,
   "id": "2b3602dd-3d10-4431-87b9-83b00d2a4263",
   "metadata": {
    "execution": {
     "iopub.execute_input": "2025-03-05T13:49:44.306100Z",
     "iopub.status.busy": "2025-03-05T13:49:44.305654Z",
     "iopub.status.idle": "2025-03-05T13:49:44.319690Z",
     "shell.execute_reply": "2025-03-05T13:49:44.318291Z",
     "shell.execute_reply.started": "2025-03-05T13:49:44.306072Z"
    }
   },
   "outputs": [
    {
     "data": {
      "text/plain": [
       "array(['Yes', 'No'], dtype=object)"
      ]
     },
     "execution_count": 20,
     "metadata": {},
     "output_type": "execute_result"
    }
   ],
   "source": [
    "# Setting the columns in which we want to proceed with the replacement\n",
    "col = ['Multiple Lines']\n",
    "\n",
    "# Replacing 'No internet Service' by 'No'\n",
    "churn_df[col] = churn_df[col].replace({'No phone service':'No'})\n",
    "\n",
    "# Verify that the replacement was done correctly\n",
    "churn_df['Online Security'].unique()"
   ]
  },
  {
   "cell_type": "markdown",
   "id": "d29dc990-ae8c-4d69-a519-aadecb50b0b4",
   "metadata": {},
   "source": [
    "---\n",
    "### Write cleaned data file\n",
    "---"
   ]
  },
  {
   "cell_type": "code",
   "execution_count": 21,
   "id": "23fbae56-1b2a-438e-bf08-472eb31390c2",
   "metadata": {
    "execution": {
     "iopub.execute_input": "2025-03-05T13:49:44.324103Z",
     "iopub.status.busy": "2025-03-05T13:49:44.323798Z",
     "iopub.status.idle": "2025-03-05T13:49:50.291578Z",
     "shell.execute_reply": "2025-03-05T13:49:50.290492Z",
     "shell.execute_reply.started": "2025-03-05T13:49:44.324079Z"
    }
   },
   "outputs": [],
   "source": [
    "churn_df.to_excel('../data/churn_cleaned.xlsx', index=False)"
   ]
  }
 ],
 "metadata": {
  "kernelspec": {
   "display_name": "graph",
   "language": "python",
   "name": "graph"
  },
  "language_info": {
   "codemirror_mode": {
    "name": "ipython",
    "version": 3
   },
   "file_extension": ".py",
   "mimetype": "text/x-python",
   "name": "python",
   "nbconvert_exporter": "python",
   "pygments_lexer": "ipython3",
   "version": "3.12.7"
  }
 },
 "nbformat": 4,
 "nbformat_minor": 5
}
